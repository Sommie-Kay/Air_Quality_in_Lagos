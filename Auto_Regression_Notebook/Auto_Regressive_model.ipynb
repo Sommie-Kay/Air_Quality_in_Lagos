{
 "cells": [
  {
   "cell_type": "markdown",
   "id": "dbfaeccc-cf0a-4b8a-b0d8-8e703eb70af7",
   "metadata": {},
   "source": [
    "# Autoregressive Model"
   ]
  },
  {
   "cell_type": "code",
   "execution_count": 29,
   "id": "54598a02-f6de-49a8-b1dd-4c1329b7a022",
   "metadata": {},
   "outputs": [],
   "source": [
    "import warnings\n",
    "\n",
    "import matplotlib.pyplot as plt\n",
    "import pandas as pd\n",
    "import plotly.express as px\n",
    "from IPython.display import VimeoVideo\n",
    "from pymongo import MongoClient\n",
    "from sklearn.metrics import mean_absolute_error\n",
    "from statsmodels.graphics.tsaplots import plot_acf, plot_pacf\n",
    "from statsmodels.tsa.ar_model import AutoReg\n",
    "\n",
    "warnings.simplefilter(action=\"ignore\", category=FutureWarning)"
   ]
  },
  {
   "cell_type": "markdown",
   "id": "8db8e42e-88de-469c-8c4c-1b25e4750a94",
   "metadata": {},
   "source": [
    "## Prepare Data"
   ]
  },
  {
   "cell_type": "markdown",
   "id": "1f088052-6ec3-4b5d-bd81-11bd61c73087",
   "metadata": {},
   "source": [
    "## Import"
   ]
  },
  {
   "cell_type": "code",
   "execution_count": 2,
   "id": "29704f11-9413-4a19-b79e-cbd2e9a01590",
   "metadata": {},
   "outputs": [],
   "source": [
    "client = MongoClient(host=\"localhost\", port=27017)\n",
    "db = client[\"air-quality\"]\n",
    "lagos =db[\"lagos\"]"
   ]
  },
  {
   "cell_type": "markdown",
   "id": "964b1cdf-139d-45ff-a77a-9b5f8dc9a80c",
   "metadata": {},
   "source": [
    "Now since this is an autoregressive model I'll have to Change the wrangle function below so that it returns a Series of the resampled data instead of a DataFrame."
   ]
  },
  {
   "cell_type": "code",
   "execution_count": 3,
   "id": "08445c26-1f52-42c9-a7d5-98dc977ade3c",
   "metadata": {},
   "outputs": [],
   "source": [
    "def wrangle(collection):\n",
    "    results = collection.find(\n",
    "        {\"metadata.site\": 3, \"metadata.measurement\": \"P2\"},\n",
    "        projection={\"P2\": 1, \"timestamp\": 1, \"_id\": 0},\n",
    "    )\n",
    "\n",
    "    # Read data into DataFrame\n",
    "    df = pd.DataFrame(list(results)).set_index(\"timestamp\")\n",
    "\n",
    "    # Localize timezone\n",
    "    df.index = df.index.tz_localize(\"UTC\").tz_convert(\"Africa/Lagos\")\n",
    "\n",
    "    # Resample to 1hr window\n",
    "    y = df[\"P2\"].resample(\"1H\").mean().fillna(method='ffill')\n",
    "\n",
    "    return y"
   ]
  },
  {
   "cell_type": "code",
   "execution_count": 4,
   "id": "ebc0bee3-13e4-499f-82fe-b2282fadd7f8",
   "metadata": {},
   "outputs": [
    {
     "data": {
      "text/plain": [
       "timestamp\n",
       "2018-10-01 01:00:00+01:00    0.010000\n",
       "2018-10-01 02:00:00+01:00    0.010000\n",
       "2018-10-01 03:00:00+01:00    0.010000\n",
       "2018-10-01 04:00:00+01:00    0.010000\n",
       "2018-10-01 05:00:00+01:00    3.147692\n",
       "Freq: H, Name: P2, dtype: float64"
      ]
     },
     "execution_count": 4,
     "metadata": {},
     "output_type": "execute_result"
    }
   ],
   "source": [
    "y = wrangle(lagos)\n",
    "y.head()"
   ]
  },
  {
   "cell_type": "markdown",
   "id": "f9f2a732-79f5-48a2-9099-eff4fc72be2c",
   "metadata": {},
   "source": [
    "## Explore"
   ]
  },
  {
   "cell_type": "markdown",
   "id": "1cab0736-5dfa-4fee-b471-d0b543fc145c",
   "metadata": {},
   "source": [
    "An ACF (Auto-Correlation Function) plot is a graph that represents the autocorrelation of a time series data. Autocorrelation refers to the degree of similarity between a given time series and a lagged version of itself.\n",
    "\n",
    "\n",
    "The PACF plot is similar to the ACF plot, but it controls for the influence of earlier lags. Specifically, it shows the correlation between a time series and a lagged version of itself, controlling for the effect of all the other lags between them.\n"
   ]
  },
  {
   "cell_type": "markdown",
   "id": "9550a789-0469-4a29-abd3-89e68bb6c85c",
   "metadata": {},
   "source": [
    "Next I'll Create an ACF plot for the data in y."
   ]
  },
  {
   "cell_type": "code",
   "execution_count": 5,
   "id": "f092a98b-ef51-447d-976d-c395033e6b18",
   "metadata": {},
   "outputs": [
    {
     "data": {
      "image/png": "[encoded data removed]",
      "text/plain": [
       "<Figure size 1080x432 with 1 Axes>"
      ]
     },
     "metadata": {
      "needs_background": "light"
     },
     "output_type": "display_data"
    }
   ],
   "source": [
    "fig, ax = plt.subplots(figsize=(15, 6))\n",
    "plot_acf(y, ax=ax)\n",
    "plt.xlabel(\"Lag [hours]\")\n",
    "plt.ylabel(\"Correlation Coefficient\");"
   ]
  },
  {
   "cell_type": "markdown",
   "id": "493e0186-3c5d-44c9-bb27-b1a3a73e9bdb",
   "metadata": {},
   "source": [
    "Now looking at  our viz let us check for significant correlation coefficients: Significant correlation coefficients are those that fall outside the dashed blue lines in the plot we can see that at hours at [1,10,19] are indications that there is a repeating pattern or seasonality in the data with these lag periods."
   ]
  },
  {
   "cell_type": "markdown",
   "id": "06dc7a9d-2407-46bf-9831-6badc7f1a294",
   "metadata": {},
   "source": [
    "Next I'll create a PACF plot"
   ]
  },
  {
   "cell_type": "code",
   "execution_count": 6,
   "id": "b5659f1c-25cd-4d8b-abb5-23cfd639986f",
   "metadata": {},
   "outputs": [
    {
     "data": {
      "image/png": "[encoded data removed]",
      "text/plain": [
       "<Figure size 1080x432 with 1 Axes>"
      ]
     },
     "metadata": {
      "needs_background": "light"
     },
     "output_type": "display_data"
    }
   ],
   "source": [
    "fig, ax = plt.subplots(figsize=(15, 6))\n",
    "plot_pacf(y,ax=ax)\n",
    "plt.xlabel(\"Lag [hours]\")\n",
    "plt.ylabel(\"Correlation Coefficient\");"
   ]
  },
  {
   "cell_type": "markdown",
   "id": "c8d0beab-c440-4171-b1b5-df1cde716b81",
   "metadata": {},
   "source": [
    " significant correlation coefficients are those that fall outside the dashed blue lines in the plot, from the viz correlation coefficient  that are significantly different from zero,  suggests that the time series is correlated with its past lags at that lag value, controlling for the effects of intervening lags."
   ]
  },
  {
   "cell_type": "markdown",
   "id": "7deff319-4c50-40b3-8d38-cdb43904c9bc",
   "metadata": {},
   "source": [
    "## Split"
   ]
  },
  {
   "cell_type": "code",
   "execution_count": 7,
   "id": "57f66f6b-ec8c-43af-9c30-cdd25a3ec668",
   "metadata": {},
   "outputs": [],
   "source": [
    "# Split y into training and test sets. The first 95% of the data is in my training set. The remaining 5% should is in the test set.\n",
    "cutoff_test = int(len(y)*0.95)\n",
    "\n",
    "y_train = y.iloc[:cutoff_test]\n",
    "y_test =  y.iloc[cutoff_test:]"
   ]
  },
  {
   "cell_type": "markdown",
   "id": "d41446e2-7ee6-49bb-bf58-56e5adfad97b",
   "metadata": {},
   "source": [
    "# Build Model"
   ]
  },
  {
   "cell_type": "markdown",
   "id": "3c9eec52-8462-410b-ac1b-c1d29e1de936",
   "metadata": {},
   "source": [
    "## Baseline"
   ]
  },
  {
   "cell_type": "code",
   "execution_count": 8,
   "id": "15811999-5395-4295-8d8a-e42602af181b",
   "metadata": {},
   "outputs": [
    {
     "name": "stdout",
     "output_type": "stream",
     "text": [
      "Mean P2 Reading: 1.13\n",
      "Baseline MAE: 1.45\n"
     ]
    }
   ],
   "source": [
    "# Calculate the baseline mean absolute error for my model.\n",
    "y_train_mean = y_train.mean()\n",
    "y_pred_baseline = [y_train_mean] * len(y_train)\n",
    "mae_baseline = mean_absolute_error(y_train, y_pred_baseline)\n",
    "\n",
    "print(\"Mean P2 Reading:\", round(y_train_mean, 2))\n",
    "print(\"Baseline MAE:\", round(mae_baseline, 2))"
   ]
  },
  {
   "cell_type": "markdown",
   "id": "1f752cc6-939e-4ca3-a8cd-92ecf31dc24b",
   "metadata": {},
   "source": [
    "##  Iterate"
   ]
  },
  {
   "cell_type": "markdown",
   "id": "0d6089d7-db2f-45c7-9ec0-792dcdbec735",
   "metadata": {},
   "source": [
    "Autoregression (AR) is a time series model that uses observations from previous time steps as input to a regression equation to predict the value at the next time step. AR works in a similar way to autocorrelation: in both cases, we're taking data from one part of a set and comparing it to another part. An AR model regresses itself"
   ]
  },
  {
   "cell_type": "markdown",
   "id": "29144fce-a3c7-4089-83bd-fab37531f5e7",
   "metadata": {},
   "source": [
    "Since I'm working with an AR model to predict PM2.5 readings, but which hyperparameter settings will give you the best performance?.I'll Use a for loop to train my AR model on using settings for p from 1 to 30. Each time the model is trains a new model, it will calculate its mean absolute error and append the result to the list maes."
   ]
  },
  {
   "cell_type": "code",
   "execution_count": 9,
   "id": "a97aa44b-bfa5-4961-90f8-b1f734cef147",
   "metadata": {},
   "outputs": [
    {
     "data": {
      "text/plain": [
       "1    1.389447\n",
       "2    1.388181\n",
       "3    1.388584\n",
       "4    1.388708\n",
       "5    1.387196\n",
       "Name: mae, dtype: float64"
      ]
     },
     "execution_count": 9,
     "metadata": {},
     "output_type": "execute_result"
    }
   ],
   "source": [
    "from statsmodels.tsa.ar_model import AutoReg\n",
    "from sklearn.metrics import mean_absolute_error\n",
    "\n",
    "# use  AR model to predict PM2.5 readings\n",
    "# Hyperparameter (p)\n",
    "p_params = range(1, 31)\n",
    "\n",
    "maes = []\n",
    "for p in p_params:\n",
    "    #train model\n",
    "    model = AutoReg(y_train, lags=p).fit()\n",
    "    \n",
    "    #generate in sample prediction\n",
    "    y_pred = model.predict().dropna()\n",
    "    #calculate mae\n",
    "    mae = mean_absolute_error(y_train.iloc[p:], y_pred)\n",
    "    maes.append(mae)\n",
    "\n",
    "mae_series = pd.Series(maes, index=p_params, name=\"mae\")\n",
    "mae_series.head()"
   ]
  },
  {
   "cell_type": "markdown",
   "id": "41d111a5-adea-492b-87ca-fc85f37a3640",
   "metadata": {},
   "source": [
    "Next I'll  Look through the results in mae_series and determine what value for p provides the best performance. Then build and train final_model using the best hyperparameter value."
   ]
  },
  {
   "cell_type": "code",
   "execution_count": 10,
   "id": "f9646c1a-cd6c-44f7-baaa-c92949d2649c",
   "metadata": {},
   "outputs": [
    {
     "data": {
      "text/plain": [
       "30"
      ]
     },
     "execution_count": 10,
     "metadata": {},
     "output_type": "execute_result"
    }
   ],
   "source": [
    "best_p = mae_series.idxmin()\n",
    "best_p"
   ]
  },
  {
   "cell_type": "markdown",
   "id": "2f56df0b-8c0c-4415-b002-39d93fd82bc7",
   "metadata": {},
   "source": [
    "From the result above the best hyperparameter value (p) is 30. Then i'll build and train final_model using the best hyperparameter value. "
   ]
  },
  {
   "cell_type": "code",
   "execution_count": 11,
   "id": "3811f752-4a18-4d5b-8f0e-a796cf26f1fa",
   "metadata": {},
   "outputs": [],
   "source": [
    "model = AutoReg(y_train,lags=30).fit()"
   ]
  },
  {
   "cell_type": "code",
   "execution_count": 12,
   "id": "275db59c-6587-4293-9aee-bd90bca3e9dd",
   "metadata": {},
   "outputs": [
    {
     "name": "stdout",
     "output_type": "stream",
     "text": [
      "Training MAE: 1.366660236442696\n"
     ]
    }
   ],
   "source": [
    "y_pred = model.predict().dropna()\n",
    "training_mae = mean_absolute_error(y_train.iloc[30:], y_pred)\n",
    "print(\"Training MAE:\", training_mae)"
   ]
  },
  {
   "cell_type": "markdown",
   "id": "fc9fbd0d-1b30-49d9-961b-b48426299a43",
   "metadata": {},
   "source": [
    "In autoregressive (AR) models, residuals are the differences between the actual values of the time series and the predicted values of the AR model. In other words, residuals represent the part of the time series that is not explained by the AR model.\n"
   ]
  },
  {
   "cell_type": "markdown",
   "id": "c90bb8c3-507a-4a89-aebf-582e4f3e2b92",
   "metadata": {},
   "source": [
    "Next I'll  Use y_train and y_pred to calculate the residuals for your model."
   ]
  },
  {
   "cell_type": "code",
   "execution_count": 13,
   "id": "8690cf81-ab42-47c1-ac5f-ec31d2598995",
   "metadata": {},
   "outputs": [
    {
     "data": {
      "text/plain": [
       "timestamp\n",
       "2019-01-20 16:00:00+01:00   -0.870646\n",
       "2019-01-20 17:00:00+01:00    9.902049\n",
       "2019-01-20 18:00:00+01:00   -2.867792\n",
       "2019-01-20 19:00:00+01:00   -1.305383\n",
       "2019-01-20 20:00:00+01:00   -0.936532\n",
       "Freq: H, dtype: float64"
      ]
     },
     "execution_count": 13,
     "metadata": {},
     "output_type": "execute_result"
    }
   ],
   "source": [
    "y_train_resid = model.resid\n",
    "y_train_resid.tail()"
   ]
  },
  {
   "cell_type": "markdown",
   "id": "f9e548fd-26d5-410f-b9cc-0216420d8a1d",
   "metadata": {},
   "source": [
    "Next I'll Create a plot of y_train_resid"
   ]
  },
  {
   "cell_type": "code",
   "execution_count": 14,
   "id": "a12aa0f7-1fdd-4c01-bce1-4553bf0bac98",
   "metadata": {},
   "outputs": [
    {
     "data": {
      "image/png": "[encoded data removed]",
      "text/plain": [
       "<Figure size 1080x432 with 1 Axes>"
      ]
     },
     "metadata": {
      "needs_background": "light"
     },
     "output_type": "display_data"
    }
   ],
   "source": [
    "fig, ax = plt.subplots(figsize=(15, 6))\n",
    "y_train_resid.plot(ylabel=\"residual value\",ax=ax);"
   ]
  },
  {
   "cell_type": "markdown",
   "id": "47514406-ca48-419c-adf4-7910e1594999",
   "metadata": {},
   "source": [
    "Next I'll Create a histogram of y_train_resid"
   ]
  },
  {
   "cell_type": "code",
   "execution_count": 15,
   "id": "78b4775c-f797-4082-bf75-8751dbaeda14",
   "metadata": {},
   "outputs": [
    {
     "data": {
      "image/png": "[encoded data removed]",
      "text/plain": [
       "<Figure size 432x288 with 1 Axes>"
      ]
     },
     "metadata": {
      "needs_background": "light"
     },
     "output_type": "display_data"
    }
   ],
   "source": [
    "y_train_resid.hist()\n",
    "plt.xlabel(\"Residual Value\")\n",
    "plt.ylabel(\"Frequency\")\n",
    "plt.title(\"AR(27), Distribution of Residuals\");"
   ]
  },
  {
   "cell_type": "markdown",
   "id": "ebaa5abc-1a59-4f07-8af3-4051d7721000",
   "metadata": {},
   "source": [
    "Next I'll create an ACF plot of y_train_resid."
   ]
  },
  {
   "cell_type": "code",
   "execution_count": 16,
   "id": "8072496e-e19a-4bb0-beeb-3f96aa6f2924",
   "metadata": {},
   "outputs": [
    {
     "data": {
      "image/png": "[encoded data removed]",
      "text/plain": [
       "<Figure size 1080x432 with 1 Axes>"
      ]
     },
     "metadata": {
      "needs_background": "light"
     },
     "output_type": "display_data"
    }
   ],
   "source": [
    "fig, ax = plt.subplots(figsize=(15, 6))\n",
    "plot_acf(y_train_resid,ax=ax);"
   ]
  },
  {
   "cell_type": "markdown",
   "id": "67e88a9b-9285-4292-a9fa-09d2564650c6",
   "metadata": {},
   "source": [
    "Next I'll  Calculate the test mean absolute error for your model."
   ]
  },
  {
   "cell_type": "code",
   "execution_count": 17,
   "id": "ba1c2be3-a379-4250-b9f1-bb98074e9a0a",
   "metadata": {},
   "outputs": [
    {
     "name": "stdout",
     "output_type": "stream",
     "text": [
      "Test MAE: 1.4660357692257573\n"
     ]
    }
   ],
   "source": [
    "y_pred_test = model.predict(y_test.index.min(), y_test.index.max())\n",
    "test_mae = mean_absolute_error(y_test, y_pred_test)\n",
    "print(\"Test MAE:\", test_mae)"
   ]
  },
  {
   "cell_type": "markdown",
   "id": "4d5b15a4-ad7b-4356-b01b-c70a85a48e05",
   "metadata": {},
   "source": [
    "Now we can see that the above mae does not beat baseline. hence we carry out walk foward valuation.\n",
    "The walk-forward validation approach is useful in time series modeling because it allows for a more accurate evaluation of the model's performance on new, unseen data "
   ]
  },
  {
   "cell_type": "markdown",
   "id": "29232fa2-1918-457b-8a85-7a309d674adb",
   "metadata": {},
   "source": [
    "Next I'll Perform walk-forward validation for my model for the entire test set y_test. Store your model's predictions in the Series y_pred_wfv."
   ]
  },
  {
   "cell_type": "code",
   "execution_count": 25,
   "id": "874557f7-2cb5-48da-b467-f41a9c758227",
   "metadata": {},
   "outputs": [
    {
     "data": {
      "text/plain": [
       "timestamp\n",
       "2019-01-20 21:00:00+01:00    0.797423\n",
       "2019-01-20 22:00:00+01:00    1.137733\n",
       "2019-01-20 23:00:00+01:00    0.578306\n",
       "2019-01-21 00:00:00+01:00    0.722144\n",
       "2019-01-21 01:00:00+01:00    0.551356\n",
       "Freq: H, Name: prediction, dtype: float64"
      ]
     },
     "execution_count": 25,
     "metadata": {},
     "output_type": "execute_result"
    }
   ],
   "source": [
    "y_pred_wfv = pd.Series(index=y_test.index, name=\"prediction\")\n",
    "history = y_train.copy()\n",
    "lags = 30\n",
    "\n",
    "for i in y_test.index:\n",
    "    model = AutoReg(history, lags=lags).fit()\n",
    "    y_pred = model.predict(start=len(history), end=len(history))\n",
    "    y_pred_wfv.loc[i] = y_pred[0]\n",
    "    history.loc[i] = y_test.loc[i]\n",
    "\n",
    "y_pred_wfv.index.name = \"timestamp\"\n",
    "y_pred_wfv.head()"
   ]
  },
  {
   "cell_type": "code",
   "execution_count": 26,
   "id": "6e4efb0e-a28a-4081-a64a-997dcb96b3a7",
   "metadata": {},
   "outputs": [
    {
     "name": "stdout",
     "output_type": "stream",
     "text": [
      "Test MAE (walk forward validation): 1.32\n"
     ]
    }
   ],
   "source": [
    "# test mae\n",
    "test_mae = mean_absolute_error(y_test,y_pred_wfv)\n",
    "print(\"Test MAE (walk forward validation):\", round(test_mae, 2))"
   ]
  },
  {
   "cell_type": "markdown",
   "id": "7373867c-066d-437c-98ac-bcdb545ac1b2",
   "metadata": {},
   "source": [
    "We can now agree that the test MAE(walk foward validation) beats the baseline ."
   ]
  },
  {
   "cell_type": "markdown",
   "id": "a9ede32f-a48a-4736-aab7-3e6768aa906f",
   "metadata": {},
   "source": [
    "# Communicate Results"
   ]
  },
  {
   "cell_type": "markdown",
   "id": "d54e5c01-d070-446d-971c-a44dc7a531be",
   "metadata": {},
   "source": [
    "Next I'll Put the values for y_test and y_pred_wfv into the DataFrame df_pred_test (don't forget the index). Then plot df_pred_test using plotly express"
   ]
  },
  {
   "cell_type": "code",
   "execution_count": 28,
   "id": "14a30473-8c9b-4542-870d-28363dd74d9f",
   "metadata": {},
   "outputs": [
    {
     "data": {
      "application/vnd.plotly.v1+json": {
       "config": {
        "plotlyServerURL": "https://plot.ly"
       },
       "data": [
        {
         "hovertemplate": "variable=y_test<br>timestamp=%{x}<br>value=%{y}<extra></extra>",
         "legendgroup": "y_test",
         "line": {
          "color": "#636efa",
          "dash": "solid"
         },
         "marker": {
          "symbol": "circle"
         },
         "mode": "lines",
         "name": "y_test",
         "orientation": "v",
         "showlegend": true,
         "type": "scatter",
         "x": [
          "2019-01-20T21:00:00+01:00",
          "2019-01-20T22:00:00+01:00",
          "2019-01-20T23:00:00+01:00",
          "2019-01-21T00:00:00+01:00",
          "2019-01-21T01:00:00+01:00",
          "2019-01-21T02:00:00+01:00",
          "2019-01-21T03:00:00+01:00",
          "2019-01-21T04:00:00+01:00",
          "2019-01-21T05:00:00+01:00",
          "2019-01-21T06:00:00+01:00",
          "2019-01-21T07:00:00+01:00",
          "2019-01-21T08:00:00+01:00",
          "2019-01-21T09:00:00+01:00",
          "2019-01-21T10:00:00+01:00",
          "2019-01-21T11:00:00+01:00",
          "2019-01-21T12:00:00+01:00",
          "2019-01-21T13:00:00+01:00",
          "2019-01-21T14:00:00+01:00",
          "2019-01-21T15:00:00+01:00",
          "2019-01-21T16:00:00+01:00",
          "2019-01-21T17:00:00+01:00",
          "2019-01-21T18:00:00+01:00",
          "2019-01-21T19:00:00+01:00",
          "2019-01-21T20:00:00+01:00",
          "2019-01-21T21:00:00+01:00",
          "2019-01-21T22:00:00+01:00",
          "2019-01-21T23:00:00+01:00",
          "2019-01-22T00:00:00+01:00",
          "2019-01-22T01:00:00+01:00",
          "2019-01-22T02:00:00+01:00",
          "2019-01-22T03:00:00+01:00",
          "2019-01-22T04:00:00+01:00",
          "2019-01-22T05:00:00+01:00",
          "2019-01-22T06:00:00+01:00",
          "2019-01-22T07:00:00+01:00",
          "2019-01-22T08:00:00+01:00",
          "2019-01-22T09:00:00+01:00",
          "2019-01-22T10:00:00+01:00",
          "2019-01-22T11:00:00+01:00",
          "2019-01-22T12:00:00+01:00",
          "2019-01-22T13:00:00+01:00",
          "2019-01-22T14:00:00+01:00",
          "2019-01-22T15:00:00+01:00",
          "2019-01-22T16:00:00+01:00",
          "2019-01-22T17:00:00+01:00",
          "2019-01-22T18:00:00+01:00",
          "2019-01-22T19:00:00+01:00",
          "2019-01-22T20:00:00+01:00",
          "2019-01-22T21:00:00+01:00",
          "2019-01-22T22:00:00+01:00",
          "2019-01-22T23:00:00+01:00",
          "2019-01-23T00:00:00+01:00",
          "2019-01-23T01:00:00+01:00",
          "2019-01-23T02:00:00+01:00",
          "2019-01-23T03:00:00+01:00",
          "2019-01-23T04:00:00+01:00",
          "2019-01-23T05:00:00+01:00",
          "2019-01-23T06:00:00+01:00",
          "2019-01-23T07:00:00+01:00",
          "2019-01-23T08:00:00+01:00",
          "2019-01-23T09:00:00+01:00",
          "2019-01-23T10:00:00+01:00",
          "2019-01-23T11:00:00+01:00",
          "2019-01-23T12:00:00+01:00",
          "2019-01-23T13:00:00+01:00",
          "2019-01-23T14:00:00+01:00",
          "2019-01-23T15:00:00+01:00",
          "2019-01-23T16:00:00+01:00",
          "2019-01-23T17:00:00+01:00",
          "2019-01-23T18:00:00+01:00",
          "2019-01-23T19:00:00+01:00",
          "2019-01-23T20:00:00+01:00",
          "2019-01-23T21:00:00+01:00",
          "2019-01-23T22:00:00+01:00",
          "2019-01-23T23:00:00+01:00",
          "2019-01-24T00:00:00+01:00",
          "2019-01-24T01:00:00+01:00",
          "2019-01-24T02:00:00+01:00",
          "2019-01-24T03:00:00+01:00",
          "2019-01-24T04:00:00+01:00",
          "2019-01-24T05:00:00+01:00",
          "2019-01-24T06:00:00+01:00",
          "2019-01-24T07:00:00+01:00",
          "2019-01-24T08:00:00+01:00",
          "2019-01-24T09:00:00+01:00",
          "2019-01-24T10:00:00+01:00",
          "2019-01-24T11:00:00+01:00",
          "2019-01-24T12:00:00+01:00",
          "2019-01-24T13:00:00+01:00",
          "2019-01-24T14:00:00+01:00",
          "2019-01-24T15:00:00+01:00",
          "2019-01-24T16:00:00+01:00",
          "2019-01-24T17:00:00+01:00",
          "2019-01-24T18:00:00+01:00",
          "2019-01-24T19:00:00+01:00",
          "2019-01-24T20:00:00+01:00",
          "2019-01-24T21:00:00+01:00",
          "2019-01-24T22:00:00+01:00",
          "2019-01-24T23:00:00+01:00",
          "2019-01-25T00:00:00+01:00",
          "2019-01-25T01:00:00+01:00",
          "2019-01-25T02:00:00+01:00",
          "2019-01-25T03:00:00+01:00",
          "2019-01-25T04:00:00+01:00",
          "2019-01-25T05:00:00+01:00",
          "2019-01-25T06:00:00+01:00",
          "2019-01-25T07:00:00+01:00",
          "2019-01-25T08:00:00+01:00",
          "2019-01-25T09:00:00+01:00",
          "2019-01-25T10:00:00+01:00",
          "2019-01-25T11:00:00+01:00",
          "2019-01-25T12:00:00+01:00",
          "2019-01-25T13:00:00+01:00",
          "2019-01-25T14:00:00+01:00",
          "2019-01-25T15:00:00+01:00",
          "2019-01-25T16:00:00+01:00",
          "2019-01-25T17:00:00+01:00",
          "2019-01-25T18:00:00+01:00",
          "2019-01-25T19:00:00+01:00",
          "2019-01-25T20:00:00+01:00",
          "2019-01-25T21:00:00+01:00",
          "2019-01-25T22:00:00+01:00",
          "2019-01-25T23:00:00+01:00",
          "2019-01-26T00:00:00+01:00",
          "2019-01-26T01:00:00+01:00",
          "2019-01-26T02:00:00+01:00",
          "2019-01-26T03:00:00+01:00",
          "2019-01-26T04:00:00+01:00",
          "2019-01-26T05:00:00+01:00",
          "2019-01-26T06:00:00+01:00",
          "2019-01-26T07:00:00+01:00",
          "2019-01-26T08:00:00+01:00",
          "2019-01-26T09:00:00+01:00",
          "2019-01-26T10:00:00+01:00",
          "2019-01-26T11:00:00+01:00",
          "2019-01-26T12:00:00+01:00",
          "2019-01-26T13:00:00+01:00",
          "2019-01-26T14:00:00+01:00",
          "2019-01-26T15:00:00+01:00",
          "2019-01-26T16:00:00+01:00",
          "2019-01-26T17:00:00+01:00",
          "2019-01-26T18:00:00+01:00"
         ],
         "xaxis": "x",
         "y": [
          0.354,
          0.01,
          0.01,
          0.01,
          0.01,
          2.8775,
          0.70625,
          0.01,
          0.01,
          0.01,
          0.01,
          0.019230769230769232,
          1.445,
          1.445,
          3.2283333333333335,
          0.6271428571428571,
          0.01,
          0.049999999999999996,
          0.01,
          0.01,
          0.10181818181818182,
          0.21200000000000002,
          0.21200000000000002,
          3.1845454545454546,
          0.01,
          0.01,
          0.01,
          0.01,
          0.01,
          0.01,
          0.01,
          0.01,
          0.01,
          0.7135714285714286,
          0.17833333333333332,
          1.224,
          0.01,
          0.01,
          0.01,
          8.33,
          3.1736363636363634,
          0.01,
          0.12933333333333336,
          0.038,
          0.5509999999999999,
          0.3576923076923077,
          0.09692307692307692,
          2.9633333333333334,
          4.971666666666667,
          0.7691666666666666,
          0.01,
          0.01,
          0.01,
          0.01,
          0.4846153846153846,
          0.01,
          0.13428571428571429,
          0.01,
          0.01,
          0.01,
          0.01,
          0.01,
          0.01,
          0.01,
          0.01,
          0.01,
          2.4924999999999997,
          2.336666666666667,
          0.01,
          0.18818181818181817,
          0.01,
          1.5683333333333334,
          0.618,
          0.01,
          0.01,
          0.01,
          0.01,
          0.01,
          0.01,
          0.01,
          0.01,
          3.91,
          7.517999999999999,
          0.42357142857142854,
          0.01,
          0.01,
          0.2254545454545454,
          0.01,
          10.07,
          4.54,
          0.01,
          0.01,
          0.01,
          0.01,
          0.01,
          0.29,
          0.01,
          0.01,
          5.711428571428571,
          5.711428571428571,
          5.711428571428571,
          5.711428571428571,
          5.711428571428571,
          5.711428571428571,
          5.711428571428571,
          4.799090909090909,
          1.654,
          0.032,
          0.01,
          0.01,
          0.183,
          0.01,
          4.635,
          2.9723076923076923,
          0.01,
          1.21,
          0.01,
          0.01,
          1.0855555555555556,
          0.01,
          0.01,
          0.74,
          2.349090909090909,
          0.01,
          0.01,
          0.01,
          0.01,
          0.01,
          0.11133333333333333,
          0.01,
          0.01,
          1.8677777777777775,
          0.09307692307692308,
          0.295,
          0.9069230769230768,
          0.01,
          0.01,
          0.01,
          0.01,
          0.01,
          0.01,
          7.8374999999999995
         ],
         "yaxis": "y"
        },
        {
         "hovertemplate": "variable=y_pred_wfv<br>timestamp=%{x}<br>value=%{y}<extra></extra>",
         "legendgroup": "y_pred_wfv",
         "line": {
          "color": "#EF553B",
          "dash": "solid"
         },
         "marker": {
          "symbol": "circle"
         },
         "mode": "lines",
         "name": "y_pred_wfv",
         "orientation": "v",
         "showlegend": true,
         "type": "scatter",
         "x": [
          "2019-01-20T21:00:00+01:00",
          "2019-01-20T22:00:00+01:00",
          "2019-01-20T23:00:00+01:00",
          "2019-01-21T00:00:00+01:00",
          "2019-01-21T01:00:00+01:00",
          "2019-01-21T02:00:00+01:00",
          "2019-01-21T03:00:00+01:00",
          "2019-01-21T04:00:00+01:00",
          "2019-01-21T05:00:00+01:00",
          "2019-01-21T06:00:00+01:00",
          "2019-01-21T07:00:00+01:00",
          "2019-01-21T08:00:00+01:00",
          "2019-01-21T09:00:00+01:00",
          "2019-01-21T10:00:00+01:00",
          "2019-01-21T11:00:00+01:00",
          "2019-01-21T12:00:00+01:00",
          "2019-01-21T13:00:00+01:00",
          "2019-01-21T14:00:00+01:00",
          "2019-01-21T15:00:00+01:00",
          "2019-01-21T16:00:00+01:00",
          "2019-01-21T17:00:00+01:00",
          "2019-01-21T18:00:00+01:00",
          "2019-01-21T19:00:00+01:00",
          "2019-01-21T20:00:00+01:00",
          "2019-01-21T21:00:00+01:00",
          "2019-01-21T22:00:00+01:00",
          "2019-01-21T23:00:00+01:00",
          "2019-01-22T00:00:00+01:00",
          "2019-01-22T01:00:00+01:00",
          "2019-01-22T02:00:00+01:00",
          "2019-01-22T03:00:00+01:00",
          "2019-01-22T04:00:00+01:00",
          "2019-01-22T05:00:00+01:00",
          "2019-01-22T06:00:00+01:00",
          "2019-01-22T07:00:00+01:00",
          "2019-01-22T08:00:00+01:00",
          "2019-01-22T09:00:00+01:00",
          "2019-01-22T10:00:00+01:00",
          "2019-01-22T11:00:00+01:00",
          "2019-01-22T12:00:00+01:00",
          "2019-01-22T13:00:00+01:00",
          "2019-01-22T14:00:00+01:00",
          "2019-01-22T15:00:00+01:00",
          "2019-01-22T16:00:00+01:00",
          "2019-01-22T17:00:00+01:00",
          "2019-01-22T18:00:00+01:00",
          "2019-01-22T19:00:00+01:00",
          "2019-01-22T20:00:00+01:00",
          "2019-01-22T21:00:00+01:00",
          "2019-01-22T22:00:00+01:00",
          "2019-01-22T23:00:00+01:00",
          "2019-01-23T00:00:00+01:00",
          "2019-01-23T01:00:00+01:00",
          "2019-01-23T02:00:00+01:00",
          "2019-01-23T03:00:00+01:00",
          "2019-01-23T04:00:00+01:00",
          "2019-01-23T05:00:00+01:00",
          "2019-01-23T06:00:00+01:00",
          "2019-01-23T07:00:00+01:00",
          "2019-01-23T08:00:00+01:00",
          "2019-01-23T09:00:00+01:00",
          "2019-01-23T10:00:00+01:00",
          "2019-01-23T11:00:00+01:00",
          "2019-01-23T12:00:00+01:00",
          "2019-01-23T13:00:00+01:00",
          "2019-01-23T14:00:00+01:00",
          "2019-01-23T15:00:00+01:00",
          "2019-01-23T16:00:00+01:00",
          "2019-01-23T17:00:00+01:00",
          "2019-01-23T18:00:00+01:00",
          "2019-01-23T19:00:00+01:00",
          "2019-01-23T20:00:00+01:00",
          "2019-01-23T21:00:00+01:00",
          "2019-01-23T22:00:00+01:00",
          "2019-01-23T23:00:00+01:00",
          "2019-01-24T00:00:00+01:00",
          "2019-01-24T01:00:00+01:00",
          "2019-01-24T02:00:00+01:00",
          "2019-01-24T03:00:00+01:00",
          "2019-01-24T04:00:00+01:00",
          "2019-01-24T05:00:00+01:00",
          "2019-01-24T06:00:00+01:00",
          "2019-01-24T07:00:00+01:00",
          "2019-01-24T08:00:00+01:00",
          "2019-01-24T09:00:00+01:00",
          "2019-01-24T10:00:00+01:00",
          "2019-01-24T11:00:00+01:00",
          "2019-01-24T12:00:00+01:00",
          "2019-01-24T13:00:00+01:00",
          "2019-01-24T14:00:00+01:00",
          "2019-01-24T15:00:00+01:00",
          "2019-01-24T16:00:00+01:00",
          "2019-01-24T17:00:00+01:00",
          "2019-01-24T18:00:00+01:00",
          "2019-01-24T19:00:00+01:00",
          "2019-01-24T20:00:00+01:00",
          "2019-01-24T21:00:00+01:00",
          "2019-01-24T22:00:00+01:00",
          "2019-01-24T23:00:00+01:00",
          "2019-01-25T00:00:00+01:00",
          "2019-01-25T01:00:00+01:00",
          "2019-01-25T02:00:00+01:00",
          "2019-01-25T03:00:00+01:00",
          "2019-01-25T04:00:00+01:00",
          "2019-01-25T05:00:00+01:00",
          "2019-01-25T06:00:00+01:00",
          "2019-01-25T07:00:00+01:00",
          "2019-01-25T08:00:00+01:00",
          "2019-01-25T09:00:00+01:00",
          "2019-01-25T10:00:00+01:00",
          "2019-01-25T11:00:00+01:00",
          "2019-01-25T12:00:00+01:00",
          "2019-01-25T13:00:00+01:00",
          "2019-01-25T14:00:00+01:00",
          "2019-01-25T15:00:00+01:00",
          "2019-01-25T16:00:00+01:00",
          "2019-01-25T17:00:00+01:00",
          "2019-01-25T18:00:00+01:00",
          "2019-01-25T19:00:00+01:00",
          "2019-01-25T20:00:00+01:00",
          "2019-01-25T21:00:00+01:00",
          "2019-01-25T22:00:00+01:00",
          "2019-01-25T23:00:00+01:00",
          "2019-01-26T00:00:00+01:00",
          "2019-01-26T01:00:00+01:00",
          "2019-01-26T02:00:00+01:00",
          "2019-01-26T03:00:00+01:00",
          "2019-01-26T04:00:00+01:00",
          "2019-01-26T05:00:00+01:00",
          "2019-01-26T06:00:00+01:00",
          "2019-01-26T07:00:00+01:00",
          "2019-01-26T08:00:00+01:00",
          "2019-01-26T09:00:00+01:00",
          "2019-01-26T10:00:00+01:00",
          "2019-01-26T11:00:00+01:00",
          "2019-01-26T12:00:00+01:00",
          "2019-01-26T13:00:00+01:00",
          "2019-01-26T14:00:00+01:00",
          "2019-01-26T15:00:00+01:00",
          "2019-01-26T16:00:00+01:00",
          "2019-01-26T17:00:00+01:00",
          "2019-01-26T18:00:00+01:00"
         ],
         "xaxis": "x",
         "y": [
          0.7974227553078281,
          1.137732969558063,
          0.5783057661572438,
          0.722144207697306,
          0.5513555244954903,
          1.2727070921372525,
          2.1868531976888206,
          1.4938013261581962,
          0.5181237582306761,
          0.49115970109576956,
          0.6130123938594991,
          0.6658951341637525,
          0.5301438403883811,
          0.992111881430255,
          0.9221187245716351,
          2.2858981808057615,
          0.9515179277015198,
          0.7876900607783368,
          0.6131292845310448,
          0.9146008960257125,
          0.7628037407258466,
          0.8504200223304823,
          0.7950189652692633,
          1.2345440680881232,
          1.7808033458788264,
          1.4117941102467038,
          0.5131259968221793,
          0.5596380708778256,
          0.7488171138258043,
          0.664168810017057,
          0.678260172742927,
          0.7636178055048896,
          0.8991774090640531,
          1.190734328436523,
          1.0099885452109698,
          0.7261546425056691,
          0.9037271442034447,
          0.8185704422496988,
          0.8257630454843664,
          0.760950007867163,
          2.092593132675308,
          1.663966927738015,
          1.2817953349768174,
          0.8462175371395342,
          0.9027869266637044,
          0.7269454245221963,
          0.610135067915309,
          0.6339290743686256,
          1.3237682620276716,
          2.3239670719839203,
          1.551535657584263,
          0.6786728254232336,
          0.6378383078813797,
          0.42210653526965314,
          0.5315948708964289,
          0.5845153700151244,
          0.7327703203360342,
          0.9639230231268561,
          1.6019450919098284,
          0.9055532143135434,
          0.5584544856578973,
          0.5301379529936684,
          0.8347548942615975,
          0.910874957235704,
          1.0056412815772349,
          0.6818565219306475,
          1.046880943724398,
          1.5427794148671718,
          1.613285925407534,
          0.9156029861116595,
          0.7885897039976915,
          0.9325415553781312,
          1.1139915474256217,
          0.9033022737708357,
          0.7861162015001251,
          0.9145022378233112,
          1.1940058401640945,
          1.1056342962025631,
          0.6189534258032602,
          0.5984659602554523,
          0.6242453599338167,
          0.8007309729223625,
          1.3637359921629326,
          2.041424066839536,
          1.0784648432973005,
          0.8851277083251478,
          0.783076273651574,
          0.7585738432016202,
          0.44055543830591315,
          2.1589146684143197,
          2.0021885500118946,
          1.6490348661520517,
          1.3424514859003196,
          0.9611371031708209,
          0.4357379119797344,
          0.3126652012555408,
          0.5367615796877307,
          0.7536755443882596,
          1.6022936615413912,
          2.088705001063346,
          1.8755628397412352,
          1.9861161349407623,
          1.4889966560682448,
          1.8627225420183113,
          1.8548537281820625,
          2.0116940088772415,
          1.6537994034387486,
          1.7062103693365047,
          1.3849926648301225,
          1.3472565385731994,
          1.2678532780197684,
          1.376376865044938,
          0.9401162102872175,
          1.8821903851207598,
          1.5634962202784428,
          1.27566075298959,
          0.8431736905703845,
          1.1590526332397129,
          0.6140690943463526,
          0.6547763188349658,
          0.8233064209392866,
          1.0555339636173762,
          1.663774072729853,
          1.9933393316601342,
          1.2483062920611696,
          1.1753584192848154,
          1.042856839302258,
          1.4258782870141236,
          1.315662267257652,
          1.2364947474188541,
          1.0880368336680177,
          1.3723667133054218,
          1.6800083537599384,
          1.0530243018482837,
          0.9551938488372036,
          0.8971381891480859,
          0.8620013633080944,
          0.8707595561796487,
          0.696683350365445,
          0.8475738714974065,
          0.8805342340777577,
          1.2151862586779665
         ],
         "yaxis": "y"
        }
       ],
       "layout": {
        "autosize": true,
        "legend": {
         "title": {
          "text": "variable"
         },
         "tracegroupgap": 0
        },
        "margin": {
         "t": 60
        },
        "template": {
         "data": {
          "bar": [
           {
            "error_x": {
             "color": "#2a3f5f"
            },
            "error_y": {
             "color": "#2a3f5f"
            },
            "marker": {
             "line": {
              "color": "#E5ECF6",
              "width": 0.5
             },
             "pattern": {
              "fillmode": "overlay",
              "size": 10,
              "solidity": 0.2
             }
            },
            "type": "bar"
           }
          ],
          "barpolar": [
           {
            "marker": {
             "line": {
              "color": "#E5ECF6",
              "width": 0.5
             },
             "pattern": {
              "fillmode": "overlay",
              "size": 10,
              "solidity": 0.2
             }
            },
            "type": "barpolar"
           }
          ],
          "carpet": [
           {
            "aaxis": {
             "endlinecolor": "#2a3f5f",
             "gridcolor": "white",
             "linecolor": "white",
             "minorgridcolor": "white",
             "startlinecolor": "#2a3f5f"
            },
            "baxis": {
             "endlinecolor": "#2a3f5f",
             "gridcolor": "white",
             "linecolor": "white",
             "minorgridcolor": "white",
             "startlinecolor": "#2a3f5f"
            },
            "type": "carpet"
           }
          ],
          "choropleth": [
           {
            "colorbar": {
             "outlinewidth": 0,
             "ticks": ""
            },
            "type": "choropleth"
           }
          ],
          "contour": [
           {
            "colorbar": {
             "outlinewidth": 0,
             "ticks": ""
            },
            "colorscale": [
             [
              0,
              "#0d0887"
             ],
             [
              0.1111111111111111,
              "#46039f"
             ],
             [
              0.2222222222222222,
              "#7201a8"
             ],
             [
              0.3333333333333333,
              "#9c179e"
             ],
             [
              0.4444444444444444,
              "#bd3786"
             ],
             [
              0.5555555555555556,
              "#d8576b"
             ],
             [
              0.6666666666666666,
              "#ed7953"
             ],
             [
              0.7777777777777778,
              "#fb9f3a"
             ],
             [
              0.8888888888888888,
              "#fdca26"
             ],
             [
              1,
              "#f0f921"
             ]
            ],
            "type": "contour"
           }
          ],
          "contourcarpet": [
           {
            "colorbar": {
             "outlinewidth": 0,
             "ticks": ""
            },
            "type": "contourcarpet"
           }
          ],
          "heatmap": [
           {
            "colorbar": {
             "outlinewidth": 0,
             "ticks": ""
            },
            "colorscale": [
             [
              0,
              "#0d0887"
             ],
             [
              0.1111111111111111,
              "#46039f"
             ],
             [
              0.2222222222222222,
              "#7201a8"
             ],
             [
              0.3333333333333333,
              "#9c179e"
             ],
             [
              0.4444444444444444,
              "#bd3786"
             ],
             [
              0.5555555555555556,
              "#d8576b"
             ],
             [
              0.6666666666666666,
              "#ed7953"
             ],
             [
              0.7777777777777778,
              "#fb9f3a"
             ],
             [
              0.8888888888888888,
              "#fdca26"
             ],
             [
              1,
              "#f0f921"
             ]
            ],
            "type": "heatmap"
           }
          ],
          "heatmapgl": [
           {
            "colorbar": {
             "outlinewidth": 0,
             "ticks": ""
            },
            "colorscale": [
             [
              0,
              "#0d0887"
             ],
             [
              0.1111111111111111,
              "#46039f"
             ],
             [
              0.2222222222222222,
              "#7201a8"
             ],
             [
              0.3333333333333333,
              "#9c179e"
             ],
             [
              0.4444444444444444,
              "#bd3786"
             ],
             [
              0.5555555555555556,
              "#d8576b"
             ],
             [
              0.6666666666666666,
              "#ed7953"
             ],
             [
              0.7777777777777778,
              "#fb9f3a"
             ],
             [
              0.8888888888888888,
              "#fdca26"
             ],
             [
              1,
              "#f0f921"
             ]
            ],
            "type": "heatmapgl"
           }
          ],
          "histogram": [
           {
            "marker": {
             "pattern": {
              "fillmode": "overlay",
              "size": 10,
              "solidity": 0.2
             }
            },
            "type": "histogram"
           }
          ],
          "histogram2d": [
           {
            "colorbar": {
             "outlinewidth": 0,
             "ticks": ""
            },
            "colorscale": [
             [
              0,
              "#0d0887"
             ],
             [
              0.1111111111111111,
              "#46039f"
             ],
             [
              0.2222222222222222,
              "#7201a8"
             ],
             [
              0.3333333333333333,
              "#9c179e"
             ],
             [
              0.4444444444444444,
              "#bd3786"
             ],
             [
              0.5555555555555556,
              "#d8576b"
             ],
             [
              0.6666666666666666,
              "#ed7953"
             ],
             [
              0.7777777777777778,
              "#fb9f3a"
             ],
             [
              0.8888888888888888,
              "#fdca26"
             ],
             [
              1,
              "#f0f921"
             ]
            ],
            "type": "histogram2d"
           }
          ],
          "histogram2dcontour": [
           {
            "colorbar": {
             "outlinewidth": 0,
             "ticks": ""
            },
            "colorscale": [
             [
              0,
              "#0d0887"
             ],
             [
              0.1111111111111111,
              "#46039f"
             ],
             [
              0.2222222222222222,
              "#7201a8"
             ],
             [
              0.3333333333333333,
              "#9c179e"
             ],
             [
              0.4444444444444444,
              "#bd3786"
             ],
             [
              0.5555555555555556,
              "#d8576b"
             ],
             [
              0.6666666666666666,
              "#ed7953"
             ],
             [
              0.7777777777777778,
              "#fb9f3a"
             ],
             [
              0.8888888888888888,
              "#fdca26"
             ],
             [
              1,
              "#f0f921"
             ]
            ],
            "type": "histogram2dcontour"
           }
          ],
          "mesh3d": [
           {
            "colorbar": {
             "outlinewidth": 0,
             "ticks": ""
            },
            "type": "mesh3d"
           }
          ],
          "parcoords": [
           {
            "line": {
             "colorbar": {
              "outlinewidth": 0,
              "ticks": ""
             }
            },
            "type": "parcoords"
           }
          ],
          "pie": [
           {
            "automargin": true,
            "type": "pie"
           }
          ],
          "scatter": [
           {
            "fillpattern": {
             "fillmode": "overlay",
             "size": 10,
             "solidity": 0.2
            },
            "type": "scatter"
           }
          ],
          "scatter3d": [
           {
            "line": {
             "colorbar": {
              "outlinewidth": 0,
              "ticks": ""
             }
            },
            "marker": {
             "colorbar": {
              "outlinewidth": 0,
              "ticks": ""
             }
            },
            "type": "scatter3d"
           }
          ],
          "scattercarpet": [
           {
            "marker": {
             "colorbar": {
              "outlinewidth": 0,
              "ticks": ""
             }
            },
            "type": "scattercarpet"
           }
          ],
          "scattergeo": [
           {
            "marker": {
             "colorbar": {
              "outlinewidth": 0,
              "ticks": ""
             }
            },
            "type": "scattergeo"
           }
          ],
          "scattergl": [
           {
            "marker": {
             "colorbar": {
              "outlinewidth": 0,
              "ticks": ""
             }
            },
            "type": "scattergl"
           }
          ],
          "scattermapbox": [
           {
            "marker": {
             "colorbar": {
              "outlinewidth": 0,
              "ticks": ""
             }
            },
            "type": "scattermapbox"
           }
          ],
          "scatterpolar": [
           {
            "marker": {
             "colorbar": {
              "outlinewidth": 0,
              "ticks": ""
             }
            },
            "type": "scatterpolar"
           }
          ],
          "scatterpolargl": [
           {
            "marker": {
             "colorbar": {
              "outlinewidth": 0,
              "ticks": ""
             }
            },
            "type": "scatterpolargl"
           }
          ],
          "scatterternary": [
           {
            "marker": {
             "colorbar": {
              "outlinewidth": 0,
              "ticks": ""
             }
            },
            "type": "scatterternary"
           }
          ],
          "surface": [
           {
            "colorbar": {
             "outlinewidth": 0,
             "ticks": ""
            },
            "colorscale": [
             [
              0,
              "#0d0887"
             ],
             [
              0.1111111111111111,
              "#46039f"
             ],
             [
              0.2222222222222222,
              "#7201a8"
             ],
             [
              0.3333333333333333,
              "#9c179e"
             ],
             [
              0.4444444444444444,
              "#bd3786"
             ],
             [
              0.5555555555555556,
              "#d8576b"
             ],
             [
              0.6666666666666666,
              "#ed7953"
             ],
             [
              0.7777777777777778,
              "#fb9f3a"
             ],
             [
              0.8888888888888888,
              "#fdca26"
             ],
             [
              1,
              "#f0f921"
             ]
            ],
            "type": "surface"
           }
          ],
          "table": [
           {
            "cells": {
             "fill": {
              "color": "#EBF0F8"
             },
             "line": {
              "color": "white"
             }
            },
            "header": {
             "fill": {
              "color": "#C8D4E3"
             },
             "line": {
              "color": "white"
             }
            },
            "type": "table"
           }
          ]
         },
         "layout": {
          "annotationdefaults": {
           "arrowcolor": "#2a3f5f",
           "arrowhead": 0,
           "arrowwidth": 1
          },
          "autotypenumbers": "strict",
          "coloraxis": {
           "colorbar": {
            "outlinewidth": 0,
            "ticks": ""
           }
          },
          "colorscale": {
           "diverging": [
            [
             0,
             "#8e0152"
            ],
            [
             0.1,
             "#c51b7d"
            ],
            [
             0.2,
             "#de77ae"
            ],
            [
             0.3,
             "#f1b6da"
            ],
            [
             0.4,
             "#fde0ef"
            ],
            [
             0.5,
             "#f7f7f7"
            ],
            [
             0.6,
             "#e6f5d0"
            ],
            [
             0.7,
             "#b8e186"
            ],
            [
             0.8,
             "#7fbc41"
            ],
            [
             0.9,
             "#4d9221"
            ],
            [
             1,
             "#276419"
            ]
           ],
           "sequential": [
            [
             0,
             "#0d0887"
            ],
            [
             0.1111111111111111,
             "#46039f"
            ],
            [
             0.2222222222222222,
             "#7201a8"
            ],
            [
             0.3333333333333333,
             "#9c179e"
            ],
            [
             0.4444444444444444,
             "#bd3786"
            ],
            [
             0.5555555555555556,
             "#d8576b"
            ],
            [
             0.6666666666666666,
             "#ed7953"
            ],
            [
             0.7777777777777778,
             "#fb9f3a"
            ],
            [
             0.8888888888888888,
             "#fdca26"
            ],
            [
             1,
             "#f0f921"
            ]
           ],
           "sequentialminus": [
            [
             0,
             "#0d0887"
            ],
            [
             0.1111111111111111,
             "#46039f"
            ],
            [
             0.2222222222222222,
             "#7201a8"
            ],
            [
             0.3333333333333333,
             "#9c179e"
            ],
            [
             0.4444444444444444,
             "#bd3786"
            ],
            [
             0.5555555555555556,
             "#d8576b"
            ],
            [
             0.6666666666666666,
             "#ed7953"
            ],
            [
             0.7777777777777778,
             "#fb9f3a"
            ],
            [
             0.8888888888888888,
             "#fdca26"
            ],
            [
             1,
             "#f0f921"
            ]
           ]
          },
          "colorway": [
           "#636efa",
           "#EF553B",
           "#00cc96",
           "#ab63fa",
           "#FFA15A",
           "#19d3f3",
           "#FF6692",
           "#B6E880",
           "#FF97FF",
           "#FECB52"
          ],
          "font": {
           "color": "#2a3f5f"
          },
          "geo": {
           "bgcolor": "white",
           "lakecolor": "white",
           "landcolor": "#E5ECF6",
           "showlakes": true,
           "showland": true,
           "subunitcolor": "white"
          },
          "hoverlabel": {
           "align": "left"
          },
          "hovermode": "closest",
          "mapbox": {
           "style": "light"
          },
          "paper_bgcolor": "white",
          "plot_bgcolor": "#E5ECF6",
          "polar": {
           "angularaxis": {
            "gridcolor": "white",
            "linecolor": "white",
            "ticks": ""
           },
           "bgcolor": "#E5ECF6",
           "radialaxis": {
            "gridcolor": "white",
            "linecolor": "white",
            "ticks": ""
           }
          },
          "scene": {
           "xaxis": {
            "backgroundcolor": "#E5ECF6",
            "gridcolor": "white",
            "gridwidth": 2,
            "linecolor": "white",
            "showbackground": true,
            "ticks": "",
            "zerolinecolor": "white"
           },
           "yaxis": {
            "backgroundcolor": "#E5ECF6",
            "gridcolor": "white",
            "gridwidth": 2,
            "linecolor": "white",
            "showbackground": true,
            "ticks": "",
            "zerolinecolor": "white"
           },
           "zaxis": {
            "backgroundcolor": "#E5ECF6",
            "gridcolor": "white",
            "gridwidth": 2,
            "linecolor": "white",
            "showbackground": true,
            "ticks": "",
            "zerolinecolor": "white"
           }
          },
          "shapedefaults": {
           "line": {
            "color": "#2a3f5f"
           }
          },
          "ternary": {
           "aaxis": {
            "gridcolor": "white",
            "linecolor": "white",
            "ticks": ""
           },
           "baxis": {
            "gridcolor": "white",
            "linecolor": "white",
            "ticks": ""
           },
           "bgcolor": "#E5ECF6",
           "caxis": {
            "gridcolor": "white",
            "linecolor": "white",
            "ticks": ""
           }
          },
          "title": {
           "x": 0.05
          },
          "xaxis": {
           "automargin": true,
           "gridcolor": "white",
           "linecolor": "white",
           "ticks": "",
           "title": {
            "standoff": 15
           },
           "zerolinecolor": "white",
           "zerolinewidth": 2
          },
          "yaxis": {
           "automargin": true,
           "gridcolor": "white",
           "linecolor": "white",
           "ticks": "",
           "title": {
            "standoff": 15
           },
           "zerolinecolor": "white",
           "zerolinewidth": 2
          }
         }
        },
        "title": {
         "text": "Lagos, WFV Predictions"
        },
        "xaxis": {
         "anchor": "y",
         "autorange": true,
         "domain": [
          0,
          1
         ],
         "range": [
          "2019-01-20 21:00",
          "2019-01-26 18:00"
         ],
         "title": {
          "text": "Date"
         },
         "type": "date"
        },
        "yaxis": {
         "anchor": "x",
         "autorange": true,
         "domain": [
          0,
          1
         ],
         "range": [
          -0.5488888888888889,
          10.62888888888889
         ],
         "title": {
          "text": "PM2.5 Level"
         },
         "type": "linear"
        }
       }
      },
      "image/png": "[encoded data removed]",
      "text/html": [
       "<div>                            <div id=\"372b62dd-1b77-42eb-9d04-d4517764f16e\" class=\"plotly-graph-div\" style=\"height:525px; width:100%;\"></div>            <script type=\"text/javascript\">                require([\"plotly\"], function(Plotly) {                    window.PLOTLYENV=window.PLOTLYENV || {};                                    if (document.getElementById(\"372b62dd-1b77-42eb-9d04-d4517764f16e\")) {                    Plotly.newPlot(                        \"372b62dd-1b77-42eb-9d04-d4517764f16e\",                        [{\"hovertemplate\":\"variable=y_test<br>timestamp=%{x}<br>value=%{y}<extra></extra>\",\"legendgroup\":\"y_test\",\"line\":{\"color\":\"#636efa\",\"dash\":\"solid\"},\"marker\":{\"symbol\":\"circle\"},\"mode\":\"lines\",\"name\":\"y_test\",\"orientation\":\"v\",\"showlegend\":true,\"x\":[\"2019-01-20T21:00:00+01:00\",\"2019-01-20T22:00:00+01:00\",\"2019-01-20T23:00:00+01:00\",\"2019-01-21T00:00:00+01:00\",\"2019-01-21T01:00:00+01:00\",\"2019-01-21T02:00:00+01:00\",\"2019-01-21T03:00:00+01:00\",\"2019-01-21T04:00:00+01:00\",\"2019-01-21T05:00:00+01:00\",\"2019-01-21T06:00:00+01:00\",\"2019-01-21T07:00:00+01:00\",\"2019-01-21T08:00:00+01:00\",\"2019-01-21T09:00:00+01:00\",\"2019-01-21T10:00:00+01:00\",\"2019-01-21T11:00:00+01:00\",\"2019-01-21T12:00:00+01:00\",\"2019-01-21T13:00:00+01:00\",\"2019-01-21T14:00:00+01:00\",\"2019-01-21T15:00:00+01:00\",\"2019-01-21T16:00:00+01:00\",\"2019-01-21T17:00:00+01:00\",\"2019-01-21T18:00:00+01:00\",\"2019-01-21T19:00:00+01:00\",\"2019-01-21T20:00:00+01:00\",\"2019-01-21T21:00:00+01:00\",\"2019-01-21T22:00:00+01:00\",\"2019-01-21T23:00:00+01:00\",\"2019-01-22T00:00:00+01:00\",\"2019-01-22T01:00:00+01:00\",\"2019-01-22T02:00:00+01:00\",\"2019-01-22T03:00:00+01:00\",\"2019-01-22T04:00:00+01:00\",\"2019-01-22T05:00:00+01:00\",\"2019-01-22T06:00:00+01:00\",\"2019-01-22T07:00:00+01:00\",\"2019-01-22T08:00:00+01:00\",\"2019-01-22T09:00:00+01:00\",\"2019-01-22T10:00:00+01:00\",\"2019-01-22T11:00:00+01:00\",\"2019-01-22T12:00:00+01:00\",\"2019-01-22T13:00:00+01:00\",\"2019-01-22T14:00:00+01:00\",\"2019-01-22T15:00:00+01:00\",\"2019-01-22T16:00:00+01:00\",\"2019-01-22T17:00:00+01:00\",\"2019-01-22T18:00:00+01:00\",\"2019-01-22T19:00:00+01:00\",\"2019-01-22T20:00:00+01:00\",\"2019-01-22T21:00:00+01:00\",\"2019-01-22T22:00:00+01:00\",\"2019-01-22T23:00:00+01:00\",\"2019-01-23T00:00:00+01:00\",\"2019-01-23T01:00:00+01:00\",\"2019-01-23T02:00:00+01:00\",\"2019-01-23T03:00:00+01:00\",\"2019-01-23T04:00:00+01:00\",\"2019-01-23T05:00:00+01:00\",\"2019-01-23T06:00:00+01:00\",\"2019-01-23T07:00:00+01:00\",\"2019-01-23T08:00:00+01:00\",\"2019-01-23T09:00:00+01:00\",\"2019-01-23T10:00:00+01:00\",\"2019-01-23T11:00:00+01:00\",\"2019-01-23T12:00:00+01:00\",\"2019-01-23T13:00:00+01:00\",\"2019-01-23T14:00:00+01:00\",\"2019-01-23T15:00:00+01:00\",\"2019-01-23T16:00:00+01:00\",\"2019-01-23T17:00:00+01:00\",\"2019-01-23T18:00:00+01:00\",\"2019-01-23T19:00:00+01:00\",\"2019-01-23T20:00:00+01:00\",\"2019-01-23T21:00:00+01:00\",\"2019-01-23T22:00:00+01:00\",\"2019-01-23T23:00:00+01:00\",\"2019-01-24T00:00:00+01:00\",\"2019-01-24T01:00:00+01:00\",\"2019-01-24T02:00:00+01:00\",\"2019-01-24T03:00:00+01:00\",\"2019-01-24T04:00:00+01:00\",\"2019-01-24T05:00:00+01:00\",\"2019-01-24T06:00:00+01:00\",\"2019-01-24T07:00:00+01:00\",\"2019-01-24T08:00:00+01:00\",\"2019-01-24T09:00:00+01:00\",\"2019-01-24T10:00:00+01:00\",\"2019-01-24T11:00:00+01:00\",\"2019-01-24T12:00:00+01:00\",\"2019-01-24T13:00:00+01:00\",\"2019-01-24T14:00:00+01:00\",\"2019-01-24T15:00:00+01:00\",\"2019-01-24T16:00:00+01:00\",\"2019-01-24T17:00:00+01:00\",\"2019-01-24T18:00:00+01:00\",\"2019-01-24T19:00:00+01:00\",\"2019-01-24T20:00:00+01:00\",\"2019-01-24T21:00:00+01:00\",\"2019-01-24T22:00:00+01:00\",\"2019-01-24T23:00:00+01:00\",\"2019-01-25T00:00:00+01:00\",\"2019-01-25T01:00:00+01:00\",\"2019-01-25T02:00:00+01:00\",\"2019-01-25T03:00:00+01:00\",\"2019-01-25T04:00:00+01:00\",\"2019-01-25T05:00:00+01:00\",\"2019-01-25T06:00:00+01:00\",\"2019-01-25T07:00:00+01:00\",\"2019-01-25T08:00:00+01:00\",\"2019-01-25T09:00:00+01:00\",\"2019-01-25T10:00:00+01:00\",\"2019-01-25T11:00:00+01:00\",\"2019-01-25T12:00:00+01:00\",\"2019-01-25T13:00:00+01:00\",\"2019-01-25T14:00:00+01:00\",\"2019-01-25T15:00:00+01:00\",\"2019-01-25T16:00:00+01:00\",\"2019-01-25T17:00:00+01:00\",\"2019-01-25T18:00:00+01:00\",\"2019-01-25T19:00:00+01:00\",\"2019-01-25T20:00:00+01:00\",\"2019-01-25T21:00:00+01:00\",\"2019-01-25T22:00:00+01:00\",\"2019-01-25T23:00:00+01:00\",\"2019-01-26T00:00:00+01:00\",\"2019-01-26T01:00:00+01:00\",\"2019-01-26T02:00:00+01:00\",\"2019-01-26T03:00:00+01:00\",\"2019-01-26T04:00:00+01:00\",\"2019-01-26T05:00:00+01:00\",\"2019-01-26T06:00:00+01:00\",\"2019-01-26T07:00:00+01:00\",\"2019-01-26T08:00:00+01:00\",\"2019-01-26T09:00:00+01:00\",\"2019-01-26T10:00:00+01:00\",\"2019-01-26T11:00:00+01:00\",\"2019-01-26T12:00:00+01:00\",\"2019-01-26T13:00:00+01:00\",\"2019-01-26T14:00:00+01:00\",\"2019-01-26T15:00:00+01:00\",\"2019-01-26T16:00:00+01:00\",\"2019-01-26T17:00:00+01:00\",\"2019-01-26T18:00:00+01:00\"],\"xaxis\":\"x\",\"y\":[0.354,0.01,0.01,0.01,0.01,2.8775,0.70625,0.01,0.01,0.01,0.01,0.019230769230769232,1.445,1.445,3.2283333333333335,0.6271428571428571,0.01,0.049999999999999996,0.01,0.01,0.10181818181818182,0.21200000000000002,0.21200000000000002,3.1845454545454546,0.01,0.01,0.01,0.01,0.01,0.01,0.01,0.01,0.01,0.7135714285714286,0.17833333333333332,1.224,0.01,0.01,0.01,8.33,3.1736363636363634,0.01,0.12933333333333336,0.038,0.5509999999999999,0.3576923076923077,0.09692307692307692,2.9633333333333334,4.971666666666667,0.7691666666666666,0.01,0.01,0.01,0.01,0.4846153846153846,0.01,0.13428571428571429,0.01,0.01,0.01,0.01,0.01,0.01,0.01,0.01,0.01,2.4924999999999997,2.336666666666667,0.01,0.18818181818181817,0.01,1.5683333333333334,0.618,0.01,0.01,0.01,0.01,0.01,0.01,0.01,0.01,3.91,7.517999999999999,0.42357142857142854,0.01,0.01,0.2254545454545454,0.01,10.07,4.54,0.01,0.01,0.01,0.01,0.01,0.29,0.01,0.01,5.711428571428571,5.711428571428571,5.711428571428571,5.711428571428571,5.711428571428571,5.711428571428571,5.711428571428571,4.799090909090909,1.654,0.032,0.01,0.01,0.183,0.01,4.635,2.9723076923076923,0.01,1.21,0.01,0.01,1.0855555555555556,0.01,0.01,0.74,2.349090909090909,0.01,0.01,0.01,0.01,0.01,0.11133333333333333,0.01,0.01,1.8677777777777775,0.09307692307692308,0.295,0.9069230769230768,0.01,0.01,0.01,0.01,0.01,0.01,7.8374999999999995],\"yaxis\":\"y\",\"type\":\"scatter\"},{\"hovertemplate\":\"variable=y_pred_wfv<br>timestamp=%{x}<br>value=%{y}<extra></extra>\",\"legendgroup\":\"y_pred_wfv\",\"line\":{\"color\":\"#EF553B\",\"dash\":\"solid\"},\"marker\":{\"symbol\":\"circle\"},\"mode\":\"lines\",\"name\":\"y_pred_wfv\",\"orientation\":\"v\",\"showlegend\":true,\"x\":[\"2019-01-20T21:00:00+01:00\",\"2019-01-20T22:00:00+01:00\",\"2019-01-20T23:00:00+01:00\",\"2019-01-21T00:00:00+01:00\",\"2019-01-21T01:00:00+01:00\",\"2019-01-21T02:00:00+01:00\",\"2019-01-21T03:00:00+01:00\",\"2019-01-21T04:00:00+01:00\",\"2019-01-21T05:00:00+01:00\",\"2019-01-21T06:00:00+01:00\",\"2019-01-21T07:00:00+01:00\",\"2019-01-21T08:00:00+01:00\",\"2019-01-21T09:00:00+01:00\",\"2019-01-21T10:00:00+01:00\",\"2019-01-21T11:00:00+01:00\",\"2019-01-21T12:00:00+01:00\",\"2019-01-21T13:00:00+01:00\",\"2019-01-21T14:00:00+01:00\",\"2019-01-21T15:00:00+01:00\",\"2019-01-21T16:00:00+01:00\",\"2019-01-21T17:00:00+01:00\",\"2019-01-21T18:00:00+01:00\",\"2019-01-21T19:00:00+01:00\",\"2019-01-21T20:00:00+01:00\",\"2019-01-21T21:00:00+01:00\",\"2019-01-21T22:00:00+01:00\",\"2019-01-21T23:00:00+01:00\",\"2019-01-22T00:00:00+01:00\",\"2019-01-22T01:00:00+01:00\",\"2019-01-22T02:00:00+01:00\",\"2019-01-22T03:00:00+01:00\",\"2019-01-22T04:00:00+01:00\",\"2019-01-22T05:00:00+01:00\",\"2019-01-22T06:00:00+01:00\",\"2019-01-22T07:00:00+01:00\",\"2019-01-22T08:00:00+01:00\",\"2019-01-22T09:00:00+01:00\",\"2019-01-22T10:00:00+01:00\",\"2019-01-22T11:00:00+01:00\",\"2019-01-22T12:00:00+01:00\",\"2019-01-22T13:00:00+01:00\",\"2019-01-22T14:00:00+01:00\",\"2019-01-22T15:00:00+01:00\",\"2019-01-22T16:00:00+01:00\",\"2019-01-22T17:00:00+01:00\",\"2019-01-22T18:00:00+01:00\",\"2019-01-22T19:00:00+01:00\",\"2019-01-22T20:00:00+01:00\",\"2019-01-22T21:00:00+01:00\",\"2019-01-22T22:00:00+01:00\",\"2019-01-22T23:00:00+01:00\",\"2019-01-23T00:00:00+01:00\",\"2019-01-23T01:00:00+01:00\",\"2019-01-23T02:00:00+01:00\",\"2019-01-23T03:00:00+01:00\",\"2019-01-23T04:00:00+01:00\",\"2019-01-23T05:00:00+01:00\",\"2019-01-23T06:00:00+01:00\",\"2019-01-23T07:00:00+01:00\",\"2019-01-23T08:00:00+01:00\",\"2019-01-23T09:00:00+01:00\",\"2019-01-23T10:00:00+01:00\",\"2019-01-23T11:00:00+01:00\",\"2019-01-23T12:00:00+01:00\",\"2019-01-23T13:00:00+01:00\",\"2019-01-23T14:00:00+01:00\",\"2019-01-23T15:00:00+01:00\",\"2019-01-23T16:00:00+01:00\",\"2019-01-23T17:00:00+01:00\",\"2019-01-23T18:00:00+01:00\",\"2019-01-23T19:00:00+01:00\",\"2019-01-23T20:00:00+01:00\",\"2019-01-23T21:00:00+01:00\",\"2019-01-23T22:00:00+01:00\",\"2019-01-23T23:00:00+01:00\",\"2019-01-24T00:00:00+01:00\",\"2019-01-24T01:00:00+01:00\",\"2019-01-24T02:00:00+01:00\",\"2019-01-24T03:00:00+01:00\",\"2019-01-24T04:00:00+01:00\",\"2019-01-24T05:00:00+01:00\",\"2019-01-24T06:00:00+01:00\",\"2019-01-24T07:00:00+01:00\",\"2019-01-24T08:00:00+01:00\",\"2019-01-24T09:00:00+01:00\",\"2019-01-24T10:00:00+01:00\",\"2019-01-24T11:00:00+01:00\",\"2019-01-24T12:00:00+01:00\",\"2019-01-24T13:00:00+01:00\",\"2019-01-24T14:00:00+01:00\",\"2019-01-24T15:00:00+01:00\",\"2019-01-24T16:00:00+01:00\",\"2019-01-24T17:00:00+01:00\",\"2019-01-24T18:00:00+01:00\",\"2019-01-24T19:00:00+01:00\",\"2019-01-24T20:00:00+01:00\",\"2019-01-24T21:00:00+01:00\",\"2019-01-24T22:00:00+01:00\",\"2019-01-24T23:00:00+01:00\",\"2019-01-25T00:00:00+01:00\",\"2019-01-25T01:00:00+01:00\",\"2019-01-25T02:00:00+01:00\",\"2019-01-25T03:00:00+01:00\",\"2019-01-25T04:00:00+01:00\",\"2019-01-25T05:00:00+01:00\",\"2019-01-25T06:00:00+01:00\",\"2019-01-25T07:00:00+01:00\",\"2019-01-25T08:00:00+01:00\",\"2019-01-25T09:00:00+01:00\",\"2019-01-25T10:00:00+01:00\",\"2019-01-25T11:00:00+01:00\",\"2019-01-25T12:00:00+01:00\",\"2019-01-25T13:00:00+01:00\",\"2019-01-25T14:00:00+01:00\",\"2019-01-25T15:00:00+01:00\",\"2019-01-25T16:00:00+01:00\",\"2019-01-25T17:00:00+01:00\",\"2019-01-25T18:00:00+01:00\",\"2019-01-25T19:00:00+01:00\",\"2019-01-25T20:00:00+01:00\",\"2019-01-25T21:00:00+01:00\",\"2019-01-25T22:00:00+01:00\",\"2019-01-25T23:00:00+01:00\",\"2019-01-26T00:00:00+01:00\",\"2019-01-26T01:00:00+01:00\",\"2019-01-26T02:00:00+01:00\",\"2019-01-26T03:00:00+01:00\",\"2019-01-26T04:00:00+01:00\",\"2019-01-26T05:00:00+01:00\",\"2019-01-26T06:00:00+01:00\",\"2019-01-26T07:00:00+01:00\",\"2019-01-26T08:00:00+01:00\",\"2019-01-26T09:00:00+01:00\",\"2019-01-26T10:00:00+01:00\",\"2019-01-26T11:00:00+01:00\",\"2019-01-26T12:00:00+01:00\",\"2019-01-26T13:00:00+01:00\",\"2019-01-26T14:00:00+01:00\",\"2019-01-26T15:00:00+01:00\",\"2019-01-26T16:00:00+01:00\",\"2019-01-26T17:00:00+01:00\",\"2019-01-26T18:00:00+01:00\"],\"xaxis\":\"x\",\"y\":[0.7974227553078281,1.137732969558063,0.5783057661572438,0.722144207697306,0.5513555244954903,1.2727070921372525,2.1868531976888206,1.4938013261581962,0.5181237582306761,0.49115970109576956,0.6130123938594991,0.6658951341637525,0.5301438403883811,0.992111881430255,0.9221187245716351,2.2858981808057615,0.9515179277015198,0.7876900607783368,0.6131292845310448,0.9146008960257125,0.7628037407258466,0.8504200223304823,0.7950189652692633,1.2345440680881232,1.7808033458788264,1.4117941102467038,0.5131259968221793,0.5596380708778256,0.7488171138258043,0.664168810017057,0.678260172742927,0.7636178055048896,0.8991774090640531,1.190734328436523,1.0099885452109698,0.7261546425056691,0.9037271442034447,0.8185704422496988,0.8257630454843664,0.760950007867163,2.092593132675308,1.663966927738015,1.2817953349768174,0.8462175371395342,0.9027869266637044,0.7269454245221963,0.610135067915309,0.6339290743686256,1.3237682620276716,2.3239670719839203,1.551535657584263,0.6786728254232336,0.6378383078813797,0.42210653526965314,0.5315948708964289,0.5845153700151244,0.7327703203360342,0.9639230231268561,1.6019450919098284,0.9055532143135434,0.5584544856578973,0.5301379529936684,0.8347548942615975,0.910874957235704,1.0056412815772349,0.6818565219306475,1.046880943724398,1.5427794148671718,1.613285925407534,0.9156029861116595,0.7885897039976915,0.9325415553781312,1.1139915474256217,0.9033022737708357,0.7861162015001251,0.9145022378233112,1.1940058401640945,1.1056342962025631,0.6189534258032602,0.5984659602554523,0.6242453599338167,0.8007309729223625,1.3637359921629326,2.041424066839536,1.0784648432973005,0.8851277083251478,0.783076273651574,0.7585738432016202,0.44055543830591315,2.1589146684143197,2.0021885500118946,1.6490348661520517,1.3424514859003196,0.9611371031708209,0.4357379119797344,0.3126652012555408,0.5367615796877307,0.7536755443882596,1.6022936615413912,2.088705001063346,1.8755628397412352,1.9861161349407623,1.4889966560682448,1.8627225420183113,1.8548537281820625,2.0116940088772415,1.6537994034387486,1.7062103693365047,1.3849926648301225,1.3472565385731994,1.2678532780197684,1.376376865044938,0.9401162102872175,1.8821903851207598,1.5634962202784428,1.27566075298959,0.8431736905703845,1.1590526332397129,0.6140690943463526,0.6547763188349658,0.8233064209392866,1.0555339636173762,1.663774072729853,1.9933393316601342,1.2483062920611696,1.1753584192848154,1.042856839302258,1.4258782870141236,1.315662267257652,1.2364947474188541,1.0880368336680177,1.3723667133054218,1.6800083537599384,1.0530243018482837,0.9551938488372036,0.8971381891480859,0.8620013633080944,0.8707595561796487,0.696683350365445,0.8475738714974065,0.8805342340777577,1.2151862586779665],\"yaxis\":\"y\",\"type\":\"scatter\"}],                        {\"template\":{\"data\":{\"histogram2dcontour\":[{\"type\":\"histogram2dcontour\",\"colorbar\":{\"outlinewidth\":0,\"ticks\":\"\"},\"colorscale\":[[0.0,\"#0d0887\"],[0.1111111111111111,\"#46039f\"],[0.2222222222222222,\"#7201a8\"],[0.3333333333333333,\"#9c179e\"],[0.4444444444444444,\"#bd3786\"],[0.5555555555555556,\"#d8576b\"],[0.6666666666666666,\"#ed7953\"],[0.7777777777777778,\"#fb9f3a\"],[0.8888888888888888,\"#fdca26\"],[1.0,\"#f0f921\"]]}],\"choropleth\":[{\"type\":\"choropleth\",\"colorbar\":{\"outlinewidth\":0,\"ticks\":\"\"}}],\"histogram2d\":[{\"type\":\"histogram2d\",\"colorbar\":{\"outlinewidth\":0,\"ticks\":\"\"},\"colorscale\":[[0.0,\"#0d0887\"],[0.1111111111111111,\"#46039f\"],[0.2222222222222222,\"#7201a8\"],[0.3333333333333333,\"#9c179e\"],[0.4444444444444444,\"#bd3786\"],[0.5555555555555556,\"#d8576b\"],[0.6666666666666666,\"#ed7953\"],[0.7777777777777778,\"#fb9f3a\"],[0.8888888888888888,\"#fdca26\"],[1.0,\"#f0f921\"]]}],\"heatmap\":[{\"type\":\"heatmap\",\"colorbar\":{\"outlinewidth\":0,\"ticks\":\"\"},\"colorscale\":[[0.0,\"#0d0887\"],[0.1111111111111111,\"#46039f\"],[0.2222222222222222,\"#7201a8\"],[0.3333333333333333,\"#9c179e\"],[0.4444444444444444,\"#bd3786\"],[0.5555555555555556,\"#d8576b\"],[0.6666666666666666,\"#ed7953\"],[0.7777777777777778,\"#fb9f3a\"],[0.8888888888888888,\"#fdca26\"],[1.0,\"#f0f921\"]]}],\"heatmapgl\":[{\"type\":\"heatmapgl\",\"colorbar\":{\"outlinewidth\":0,\"ticks\":\"\"},\"colorscale\":[[0.0,\"#0d0887\"],[0.1111111111111111,\"#46039f\"],[0.2222222222222222,\"#7201a8\"],[0.3333333333333333,\"#9c179e\"],[0.4444444444444444,\"#bd3786\"],[0.5555555555555556,\"#d8576b\"],[0.6666666666666666,\"#ed7953\"],[0.7777777777777778,\"#fb9f3a\"],[0.8888888888888888,\"#fdca26\"],[1.0,\"#f0f921\"]]}],\"contourcarpet\":[{\"type\":\"contourcarpet\",\"colorbar\":{\"outlinewidth\":0,\"ticks\":\"\"}}],\"contour\":[{\"type\":\"contour\",\"colorbar\":{\"outlinewidth\":0,\"ticks\":\"\"},\"colorscale\":[[0.0,\"#0d0887\"],[0.1111111111111111,\"#46039f\"],[0.2222222222222222,\"#7201a8\"],[0.3333333333333333,\"#9c179e\"],[0.4444444444444444,\"#bd3786\"],[0.5555555555555556,\"#d8576b\"],[0.6666666666666666,\"#ed7953\"],[0.7777777777777778,\"#fb9f3a\"],[0.8888888888888888,\"#fdca26\"],[1.0,\"#f0f921\"]]}],\"surface\":[{\"type\":\"surface\",\"colorbar\":{\"outlinewidth\":0,\"ticks\":\"\"},\"colorscale\":[[0.0,\"#0d0887\"],[0.1111111111111111,\"#46039f\"],[0.2222222222222222,\"#7201a8\"],[0.3333333333333333,\"#9c179e\"],[0.4444444444444444,\"#bd3786\"],[0.5555555555555556,\"#d8576b\"],[0.6666666666666666,\"#ed7953\"],[0.7777777777777778,\"#fb9f3a\"],[0.8888888888888888,\"#fdca26\"],[1.0,\"#f0f921\"]]}],\"mesh3d\":[{\"type\":\"mesh3d\",\"colorbar\":{\"outlinewidth\":0,\"ticks\":\"\"}}],\"scatter\":[{\"fillpattern\":{\"fillmode\":\"overlay\",\"size\":10,\"solidity\":0.2},\"type\":\"scatter\"}],\"parcoords\":[{\"type\":\"parcoords\",\"line\":{\"colorbar\":{\"outlinewidth\":0,\"ticks\":\"\"}}}],\"scatterpolargl\":[{\"type\":\"scatterpolargl\",\"marker\":{\"colorbar\":{\"outlinewidth\":0,\"ticks\":\"\"}}}],\"bar\":[{\"error_x\":{\"color\":\"#2a3f5f\"},\"error_y\":{\"color\":\"#2a3f5f\"},\"marker\":{\"line\":{\"color\":\"#E5ECF6\",\"width\":0.5},\"pattern\":{\"fillmode\":\"overlay\",\"size\":10,\"solidity\":0.2}},\"type\":\"bar\"}],\"scattergeo\":[{\"type\":\"scattergeo\",\"marker\":{\"colorbar\":{\"outlinewidth\":0,\"ticks\":\"\"}}}],\"scatterpolar\":[{\"type\":\"scatterpolar\",\"marker\":{\"colorbar\":{\"outlinewidth\":0,\"ticks\":\"\"}}}],\"histogram\":[{\"marker\":{\"pattern\":{\"fillmode\":\"overlay\",\"size\":10,\"solidity\":0.2}},\"type\":\"histogram\"}],\"scattergl\":[{\"type\":\"scattergl\",\"marker\":{\"colorbar\":{\"outlinewidth\":0,\"ticks\":\"\"}}}],\"scatter3d\":[{\"type\":\"scatter3d\",\"line\":{\"colorbar\":{\"outlinewidth\":0,\"ticks\":\"\"}},\"marker\":{\"colorbar\":{\"outlinewidth\":0,\"ticks\":\"\"}}}],\"scattermapbox\":[{\"type\":\"scattermapbox\",\"marker\":{\"colorbar\":{\"outlinewidth\":0,\"ticks\":\"\"}}}],\"scatterternary\":[{\"type\":\"scatterternary\",\"marker\":{\"colorbar\":{\"outlinewidth\":0,\"ticks\":\"\"}}}],\"scattercarpet\":[{\"type\":\"scattercarpet\",\"marker\":{\"colorbar\":{\"outlinewidth\":0,\"ticks\":\"\"}}}],\"carpet\":[{\"aaxis\":{\"endlinecolor\":\"#2a3f5f\",\"gridcolor\":\"white\",\"linecolor\":\"white\",\"minorgridcolor\":\"white\",\"startlinecolor\":\"#2a3f5f\"},\"baxis\":{\"endlinecolor\":\"#2a3f5f\",\"gridcolor\":\"white\",\"linecolor\":\"white\",\"minorgridcolor\":\"white\",\"startlinecolor\":\"#2a3f5f\"},\"type\":\"carpet\"}],\"table\":[{\"cells\":{\"fill\":{\"color\":\"#EBF0F8\"},\"line\":{\"color\":\"white\"}},\"header\":{\"fill\":{\"color\":\"#C8D4E3\"},\"line\":{\"color\":\"white\"}},\"type\":\"table\"}],\"barpolar\":[{\"marker\":{\"line\":{\"color\":\"#E5ECF6\",\"width\":0.5},\"pattern\":{\"fillmode\":\"overlay\",\"size\":10,\"solidity\":0.2}},\"type\":\"barpolar\"}],\"pie\":[{\"automargin\":true,\"type\":\"pie\"}]},\"layout\":{\"autotypenumbers\":\"strict\",\"colorway\":[\"#636efa\",\"#EF553B\",\"#00cc96\",\"#ab63fa\",\"#FFA15A\",\"#19d3f3\",\"#FF6692\",\"#B6E880\",\"#FF97FF\",\"#FECB52\"],\"font\":{\"color\":\"#2a3f5f\"},\"hovermode\":\"closest\",\"hoverlabel\":{\"align\":\"left\"},\"paper_bgcolor\":\"white\",\"plot_bgcolor\":\"#E5ECF6\",\"polar\":{\"bgcolor\":\"#E5ECF6\",\"angularaxis\":{\"gridcolor\":\"white\",\"linecolor\":\"white\",\"ticks\":\"\"},\"radialaxis\":{\"gridcolor\":\"white\",\"linecolor\":\"white\",\"ticks\":\"\"}},\"ternary\":{\"bgcolor\":\"#E5ECF6\",\"aaxis\":{\"gridcolor\":\"white\",\"linecolor\":\"white\",\"ticks\":\"\"},\"baxis\":{\"gridcolor\":\"white\",\"linecolor\":\"white\",\"ticks\":\"\"},\"caxis\":{\"gridcolor\":\"white\",\"linecolor\":\"white\",\"ticks\":\"\"}},\"coloraxis\":{\"colorbar\":{\"outlinewidth\":0,\"ticks\":\"\"}},\"colorscale\":{\"sequential\":[[0.0,\"#0d0887\"],[0.1111111111111111,\"#46039f\"],[0.2222222222222222,\"#7201a8\"],[0.3333333333333333,\"#9c179e\"],[0.4444444444444444,\"#bd3786\"],[0.5555555555555556,\"#d8576b\"],[0.6666666666666666,\"#ed7953\"],[0.7777777777777778,\"#fb9f3a\"],[0.8888888888888888,\"#fdca26\"],[1.0,\"#f0f921\"]],\"sequentialminus\":[[0.0,\"#0d0887\"],[0.1111111111111111,\"#46039f\"],[0.2222222222222222,\"#7201a8\"],[0.3333333333333333,\"#9c179e\"],[0.4444444444444444,\"#bd3786\"],[0.5555555555555556,\"#d8576b\"],[0.6666666666666666,\"#ed7953\"],[0.7777777777777778,\"#fb9f3a\"],[0.8888888888888888,\"#fdca26\"],[1.0,\"#f0f921\"]],\"diverging\":[[0,\"#8e0152\"],[0.1,\"#c51b7d\"],[0.2,\"#de77ae\"],[0.3,\"#f1b6da\"],[0.4,\"#fde0ef\"],[0.5,\"#f7f7f7\"],[0.6,\"#e6f5d0\"],[0.7,\"#b8e186\"],[0.8,\"#7fbc41\"],[0.9,\"#4d9221\"],[1,\"#276419\"]]},\"xaxis\":{\"gridcolor\":\"white\",\"linecolor\":\"white\",\"ticks\":\"\",\"title\":{\"standoff\":15},\"zerolinecolor\":\"white\",\"automargin\":true,\"zerolinewidth\":2},\"yaxis\":{\"gridcolor\":\"white\",\"linecolor\":\"white\",\"ticks\":\"\",\"title\":{\"standoff\":15},\"zerolinecolor\":\"white\",\"automargin\":true,\"zerolinewidth\":2},\"scene\":{\"xaxis\":{\"backgroundcolor\":\"#E5ECF6\",\"gridcolor\":\"white\",\"linecolor\":\"white\",\"showbackground\":true,\"ticks\":\"\",\"zerolinecolor\":\"white\",\"gridwidth\":2},\"yaxis\":{\"backgroundcolor\":\"#E5ECF6\",\"gridcolor\":\"white\",\"linecolor\":\"white\",\"showbackground\":true,\"ticks\":\"\",\"zerolinecolor\":\"white\",\"gridwidth\":2},\"zaxis\":{\"backgroundcolor\":\"#E5ECF6\",\"gridcolor\":\"white\",\"linecolor\":\"white\",\"showbackground\":true,\"ticks\":\"\",\"zerolinecolor\":\"white\",\"gridwidth\":2}},\"shapedefaults\":{\"line\":{\"color\":\"#2a3f5f\"}},\"annotationdefaults\":{\"arrowcolor\":\"#2a3f5f\",\"arrowhead\":0,\"arrowwidth\":1},\"geo\":{\"bgcolor\":\"white\",\"landcolor\":\"#E5ECF6\",\"subunitcolor\":\"white\",\"showland\":true,\"showlakes\":true,\"lakecolor\":\"white\"},\"title\":{\"x\":0.05},\"mapbox\":{\"style\":\"light\"}}},\"xaxis\":{\"anchor\":\"y\",\"domain\":[0.0,1.0],\"title\":{\"text\":\"Date\"}},\"yaxis\":{\"anchor\":\"x\",\"domain\":[0.0,1.0],\"title\":{\"text\":\"PM2.5 Level\"}},\"legend\":{\"title\":{\"text\":\"variable\"},\"tracegroupgap\":0},\"margin\":{\"t\":60},\"title\":{\"text\":\"Lagos, WFV Predictions\"}},                        {\"responsive\": true}                    ).then(function(){\n",
       "                            \n",
       "var gd = document.getElementById('372b62dd-1b77-42eb-9d04-d4517764f16e');\n",
       "var x = new MutationObserver(function (mutations, observer) {{\n",
       "        var display = window.getComputedStyle(gd).display;\n",
       "        if (!display || display === 'none') {{\n",
       "            console.log([gd, 'removed!']);\n",
       "            Plotly.purge(gd);\n",
       "            observer.disconnect();\n",
       "        }}\n",
       "}});\n",
       "\n",
       "// Listen for the removal of the full notebook cells\n",
       "var notebookContainer = gd.closest('#notebook-container');\n",
       "if (notebookContainer) {{\n",
       "    x.observe(notebookContainer, {childList: true});\n",
       "}}\n",
       "\n",
       "// Listen for the clearing of the current output cell\n",
       "var outputEl = gd.closest('.output');\n",
       "if (outputEl) {{\n",
       "    x.observe(outputEl, {childList: true});\n",
       "}}\n",
       "\n",
       "                        })                };                });            </script>        </div>"
      ]
     },
     "metadata": {},
     "output_type": "display_data"
    }
   ],
   "source": [
    "df_pred_test = pd.DataFrame(\n",
    "            {\"y_test\": y_test, \"y_pred_wfv\": y_pred_wfv}\n",
    "\n",
    ")\n",
    "fig = px.line(df_pred_test, labels={\"value\"})\n",
    "fig.update_layout(\n",
    "    title=\"Lagos, WFV Predictions\",\n",
    "    xaxis_title=\"Date\",\n",
    "    yaxis_title=\"PM2.5 Level\",\n",
    ")"
   ]
  },
  {
   "cell_type": "markdown",
   "id": "cc87aaf8-bfd1-4f79-8c81-d700d5621ba2",
   "metadata": {},
   "source": [
    "From the above visualization we can see that there is no so much disparity between the test and the predicted values."
   ]
  }
 ],
 "metadata": {
  "kernelspec": {
   "display_name": "Python 3 (ipykernel)",
   "language": "python",
   "name": "python3"
  },
  "language_info": {
   "codemirror_mode": {
    "name": "ipython",
    "version": 3
   },
   "file_extension": ".py",
   "mimetype": "text/x-python",
   "name": "python",
   "nbconvert_exporter": "python",
   "pygments_lexer": "ipython3",
   "version": "3.9.6"
  }
 },
 "nbformat": 4,
 "nbformat_minor": 5
}
