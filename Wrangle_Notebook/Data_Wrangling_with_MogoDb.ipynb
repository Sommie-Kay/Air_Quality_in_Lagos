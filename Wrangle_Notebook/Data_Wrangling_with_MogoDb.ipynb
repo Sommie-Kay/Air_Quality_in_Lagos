{
 "cells": [
  {
   "cell_type": "markdown",
   "id": "694fdc01-2676-47a3-a5d8-31d012d71ecd",
   "metadata": {
    "tags": []
   },
   "source": [
    "# Wrangling Data with MongoDb\n"
   ]
  },
  {
   "cell_type": "code",
   "execution_count": 27,
   "id": "f4cee987-100f-47b9-9c5d-06615c482dc9",
   "metadata": {},
   "outputs": [],
   "source": [
    "from pprint import PrettyPrinter\n",
    "import pandas as pd\n",
    "from pymongo import MongoClient\n",
    "import matplotlib.pyplot as plt\n",
    "import pandas as pd"
   ]
  },
  {
   "cell_type": "code",
   "execution_count": 6,
   "id": "5acc3985-b359-4e2e-bf87-14b160e21fad",
   "metadata": {},
   "outputs": [],
   "source": [
    "# Instantiate a PrettyPrinter, and assign it to the variable pp\n",
    "pp = PrettyPrinter(indent=2)"
   ]
  },
  {
   "cell_type": "markdown",
   "id": "70caea12-a8c6-432a-90ba-9320a3abc9ca",
   "metadata": {},
   "source": [
    "## Prepare Data"
   ]
  },
  {
   "cell_type": "markdown",
   "id": "1f98ac7a-035f-4ffd-b12e-8a86fd8646a6",
   "metadata": {},
   "source": [
    "### Connect"
   ]
  },
  {
   "cell_type": "code",
   "execution_count": 7,
   "id": "69ef49c8-4a1e-4223-aca4-23a2b8f7db5e",
   "metadata": {},
   "outputs": [],
   "source": [
    "#Create a client that connects to the database running at localhost on port 27017.\n",
    "client = MongoClient(host=\"localhost\", port=27017)"
   ]
  },
  {
   "cell_type": "markdown",
   "id": "ff8b4e90-dbad-4ff2-858d-9b99e6116908",
   "metadata": {},
   "source": [
    "An iterator is an object that provides a way to access the elements of a collection (such as a list, tuple, set, or dictionary) sequentially, one at a time, without the need to know the underlying structure of the collection."
   ]
  },
  {
   "cell_type": "markdown",
   "id": "306d38c4-ef95-4f63-a42d-abc818d587e7",
   "metadata": {},
   "source": [
    "Now lets get the List of the databases in server using PyMongo"
   ]
  },
  {
   "cell_type": "code",
   "execution_count": 8,
   "id": "dd930897-3510-45dd-afb9-db4ce379c6d2",
   "metadata": {},
   "outputs": [
    {
     "name": "stdout",
     "output_type": "stream",
     "text": [
      "[ {'empty': False, 'name': 'admin', 'sizeOnDisk': 40960},\n",
      "  {'empty': False, 'name': 'air-quality', 'sizeOnDisk': 7000064},\n",
      "  {'empty': False, 'name': 'config', 'sizeOnDisk': 12288},\n",
      "  {'empty': False, 'name': 'local', 'sizeOnDisk': 73728},\n",
      "  {'empty': False, 'name': 'wqu-abtest', 'sizeOnDisk': 585728}]\n"
     ]
    }
   ],
   "source": [
    "# Print output using pprint.\n",
    "pp.pprint(list(client.list_databases()))\n"
   ]
  },
  {
   "cell_type": "markdown",
   "id": "28fcf8a1-67db-4b39-8d14-76cc4c09ffd2",
   "metadata": {},
   "source": [
    "Since our interest is on Air quality, I'll now assign the \"air-quality\" database to the variable db."
   ]
  },
  {
   "cell_type": "code",
   "execution_count": 9,
   "id": "74a6213a-9a08-471f-9666-045b3fda1a87",
   "metadata": {},
   "outputs": [],
   "source": [
    "db = client[\"air-quality\"]"
   ]
  },
  {
   "cell_type": "markdown",
   "id": "f3fc413c-0af6-4213-905d-555648f00a0e",
   "metadata": {},
   "source": [
    "Next I'll Use the list_collections method to print a list of the collections available in db."
   ]
  },
  {
   "cell_type": "code",
   "execution_count": 10,
   "id": "a35f99e6-646d-439f-8eb4-6c14834ed620",
   "metadata": {},
   "outputs": [
    {
     "name": "stdout",
     "output_type": "stream",
     "text": [
      "system.views\n",
      "lagos\n",
      "system.buckets.lagos\n",
      "nairobi\n",
      "system.buckets.nairobi\n",
      "dar-es-salaam\n",
      "system.buckets.dar-es-salaam\n"
     ]
    }
   ],
   "source": [
    "for c  in db.list_collections():\n",
    "    print(c[\"name\"])"
   ]
  },
  {
   "cell_type": "markdown",
   "id": "d50543fe-9426-4f0e-85c1-03ee71898f13",
   "metadata": {},
   "source": [
    "My interest is \"Lagos\" so I'll assign the \"Lagos\" collection in db to the variable name lagos."
   ]
  },
  {
   "cell_type": "code",
   "execution_count": 11,
   "id": "2ff79abf-054f-48dc-b8d4-4dc152eb2552",
   "metadata": {},
   "outputs": [],
   "source": [
    "lagos = db[\"lagos\"]"
   ]
  },
  {
   "cell_type": "markdown",
   "id": "cdd898fd-b6eb-4e0e-9f68-326d9f269b98",
   "metadata": {},
   "source": [
    "A MongoDB document is an individual record of data in a collection, and is the basic unit of analysis in MongoDB. Documents come with metadata that helps us understand what the document is.Meta Data simply refers to data about the data collected."
   ]
  },
  {
   "cell_type": "code",
   "execution_count": 12,
   "id": "63281983-fddb-4b72-88a3-31f2d3b8f300",
   "metadata": {},
   "outputs": [
    {
     "data": {
      "text/plain": [
       "166496"
      ]
     },
     "execution_count": 12,
     "metadata": {},
     "output_type": "execute_result"
    }
   ],
   "source": [
    "# Use the count_documents method to see how many documents are in the lagos collection\n",
    "lagos.count_documents({})"
   ]
  },
  {
   "cell_type": "markdown",
   "id": "3b1d4942-f31b-4b36-b678-3916492b94c1",
   "metadata": {},
   "source": [
    "Databases are designed to work with either structured data or semi-structured data.Data is semi-structured when it has some kind of organizing logic, but that logic can't be displayed using rows and columns."
   ]
  },
  {
   "cell_type": "code",
   "execution_count": 13,
   "id": "a3ce4dd4-80ef-44ac-9814-2c3107c43a48",
   "metadata": {},
   "outputs": [
    {
     "name": "stdout",
     "output_type": "stream",
     "text": [
      "{ '_id': ObjectId('6334b0f18c51459f9b1d955d'),\n",
      "  'metadata': { 'lat': 6.501,\n",
      "                'lon': 3.367,\n",
      "                'measurement': 'temperature',\n",
      "                'sensor_id': 10,\n",
      "                'sensor_type': 'DHT11',\n",
      "                'site': 4},\n",
      "  'temperature': nan,\n",
      "  'timestamp': datetime.datetime(2018, 1, 7, 7, 7, 3, 88000)}\n"
     ]
    }
   ],
   "source": [
    "# using the find_one method to Retrieve a document from a collection using PyMongo.\n",
    "result = lagos.find_one({})\n",
    "pp.pprint(result)"
   ]
  },
  {
   "cell_type": "markdown",
   "id": "d279380b-7ac8-43d6-a2da-6bf71a4f5852",
   "metadata": {},
   "source": [
    "Next I'll Use the distinct method to determine how many sensor sites are included in the lagos collection."
   ]
  },
  {
   "cell_type": "code",
   "execution_count": 14,
   "id": "683f96af-af2f-4b73-904f-85e5cacc987d",
   "metadata": {},
   "outputs": [
    {
     "data": {
      "text/plain": [
       "[4, 3]"
      ]
     },
     "execution_count": 14,
     "metadata": {},
     "output_type": "execute_result"
    }
   ],
   "source": [
    "lagos.distinct(\"metadata.site\")"
   ]
  },
  {
   "cell_type": "markdown",
   "id": "31ddd4f2-2946-4f23-9976-59eed44b7780",
   "metadata": {},
   "source": [
    "Notice that in order to grab the \"site\" number, we needed to include the \"metadata\" tag.\n",
    "\n",
    "This tells us that there are 2 sensor sites in Lagos: one labeled 3 and the other labeled 4."
   ]
  },
  {
   "cell_type": "markdown",
   "id": "74ef4261-28c1-46df-8126-112c94eda1bc",
   "metadata": {},
   "source": [
    "Let's go further. We know that there are two sensor sites in Lagos, but we don't know how many documents are associated with each site. To find that out, we'll use the count_documents method for each site."
   ]
  },
  {
   "cell_type": "code",
   "execution_count": 15,
   "id": "5de9ecd2-caa8-4d10-a6d8-fa17281e768d",
   "metadata": {},
   "outputs": [
    {
     "name": "stdout",
     "output_type": "stream",
     "text": [
      "Documents from site 3: 140586\n",
      "Documents from site 4: 25910\n"
     ]
    }
   ],
   "source": [
    "print(\"Documents from site 3:\", lagos.count_documents({\"metadata.site\": 3}))\n",
    "print(\"Documents from site 4:\", lagos.count_documents({\"metadata.site\": 4}))"
   ]
  },
  {
   "cell_type": "markdown",
   "id": "4eba6733-6d39-4871-b64c-d95a2de5107c",
   "metadata": {},
   "source": [
    "Now that we know how many documents are associated with each site, let's keep drilling down and find the number of readings for each site. We'll do this with the aggregate method\n",
    "\n"
   ]
  },
  {
   "cell_type": "code",
   "execution_count": 16,
   "id": "df171fe6-2938-4721-8a75-6f526fbc62e1",
   "metadata": {},
   "outputs": [
    {
     "name": "stdout",
     "output_type": "stream",
     "text": [
      "[{'_id': 4, 'count': 25910}, {'_id': 3, 'count': 140586}]\n"
     ]
    }
   ],
   "source": [
    "result = lagos.aggregate(\n",
    "    # Here's the `$` and the `\"_id\"`\n",
    "    [{\"$group\": {\"_id\": \"$metadata.site\", \"count\": {\"$count\": {}}}}]\n",
    ")\n",
    "pp.pprint(list(result))"
   ]
  },
  {
   "cell_type": "markdown",
   "id": "1d7fff9f-f68a-4cc5-8e79-db53bbe9665f",
   "metadata": {},
   "source": [
    "First, you'll notice that there are several dollar signs ($) in the list. This is telling the collection that we want to create something new. Here, we're saying that we want there to be a new group, and that the new group needs to be updated with data from metadata.site, and then updated again with data from count.\n",
    "\n",
    "There's also a new field: \"_id\". In PyMongo, \"_id\" is always the primary key. Primary keys are the fields which contain values that uniquely identify each row in a table."
   ]
  },
  {
   "cell_type": "markdown",
   "id": "13fb1128-16af-4f94-9e6a-3d230e998d8d",
   "metadata": {},
   "source": [
    "Next I'll Use the distinct method to determine how many types of measurements have been taken in the lagos collection."
   ]
  },
  {
   "cell_type": "code",
   "execution_count": 17,
   "id": "d17fa181-cbff-4dcc-ade4-b3472fc7e2bc",
   "metadata": {},
   "outputs": [
    {
     "data": {
      "text/plain": [
       "['humidity', 'temperature', 'P1', 'P2']"
      ]
     },
     "execution_count": 17,
     "metadata": {},
     "output_type": "execute_result"
    }
   ],
   "source": [
    "lagos.distinct(\"metadata.measurement\")"
   ]
  },
  {
   "cell_type": "markdown",
   "id": "0eaaf929-dc3c-4838-a0cd-9261afe252fb",
   "metadata": {},
   "source": [
    "With that information in mind. Since we're really interested in measures of air quality, let's take a look at the P2 values in the \"lagos\" collection. P2 measures the amount of particulate matter in the air, which in this case is something called PM 2.5. to minimize ambiguity,let's use the find method and use limit to make sure we only get back the first 3."
   ]
  },
  {
   "cell_type": "code",
   "execution_count": 18,
   "id": "90c5ddf3-d623-4a73-b2ca-03874f0a56ff",
   "metadata": {},
   "outputs": [
    {
     "name": "stdout",
     "output_type": "stream",
     "text": [
      "[ { 'P2': 14.42,\n",
      "    '_id': ObjectId('6334b0f28c51459f9b1de145'),\n",
      "    'metadata': { 'lat': 6.501,\n",
      "                  'lon': 3.367,\n",
      "                  'measurement': 'P2',\n",
      "                  'sensor_id': 6,\n",
      "                  'sensor_type': 'PPD42NS',\n",
      "                  'site': 4},\n",
      "    'timestamp': datetime.datetime(2018, 1, 7, 7, 7, 3, 39000)},\n",
      "  { 'P2': 19.66,\n",
      "    '_id': ObjectId('6334b0f28c51459f9b1de146'),\n",
      "    'metadata': { 'lat': 6.501,\n",
      "                  'lon': 3.367,\n",
      "                  'measurement': 'P2',\n",
      "                  'sensor_id': 6,\n",
      "                  'sensor_type': 'PPD42NS',\n",
      "                  'site': 4},\n",
      "    'timestamp': datetime.datetime(2018, 1, 7, 7, 11, 23, 870000)},\n",
      "  { 'P2': 24.79,\n",
      "    '_id': ObjectId('6334b0f28c51459f9b1de147'),\n",
      "    'metadata': { 'lat': 6.501,\n",
      "                  'lon': 3.367,\n",
      "                  'measurement': 'P2',\n",
      "                  'sensor_id': 6,\n",
      "                  'sensor_type': 'PPD42NS',\n",
      "                  'site': 4},\n",
      "    'timestamp': datetime.datetime(2018, 1, 7, 7, 21, 53, 981000)}]\n"
     ]
    }
   ],
   "source": [
    "result = lagos.find({\"metadata.measurement\": \"P2\"}).limit(3)\n",
    "pp.pprint(list(result))"
   ]
  },
  {
   "cell_type": "markdown",
   "id": "6951cfac-8ed1-44ea-8f52-89bd199fdd15",
   "metadata": {},
   "source": [
    "Next I'll Use the aggregate method to calculate how many readings there are for each type (\"humidity\", \"temperature\", \"P2\", and \"P1\") in both site [4,3]"
   ]
  },
  {
   "cell_type": "code",
   "execution_count": 19,
   "id": "ebb6f08b-89c0-4400-928a-b48918eb9061",
   "metadata": {},
   "outputs": [
    {
     "name": "stdout",
     "output_type": "stream",
     "text": [
      "[ {'_id': 'humidity', 'count': 6477},\n",
      "  {'_id': 'temperature', 'count': 6477},\n",
      "  {'_id': 'P1', 'count': 6478},\n",
      "  {'_id': 'P2', 'count': 6478}]\n"
     ]
    }
   ],
   "source": [
    "# for site 4\n",
    "result = result = lagos.aggregate(\n",
    "    [   \n",
    "        {\"$match\": {\"metadata.site\": 4}},\n",
    "        {\"$group\": {\"_id\": \"$metadata.measurement\", \"count\": {\"$count\": {}}}}\n",
    "    ]\n",
    "\n",
    "\n",
    ")\n",
    "\n",
    "pp.pprint(list(result))"
   ]
  },
  {
   "cell_type": "code",
   "execution_count": 20,
   "id": "aad3b6c7-8bd1-4965-a83f-2ef557356e58",
   "metadata": {},
   "outputs": [
    {
     "name": "stdout",
     "output_type": "stream",
     "text": [
      "[ {'_id': 'humidity', 'count': 35147},\n",
      "  {'_id': 'temperature', 'count': 35147},\n",
      "  {'_id': 'P1', 'count': 35146},\n",
      "  {'_id': 'P2', 'count': 35146}]\n"
     ]
    }
   ],
   "source": [
    "# for site 3\n",
    "result = result = lagos.aggregate(\n",
    "    [   \n",
    "        {\"$match\": {\"metadata.site\": 3}},\n",
    "        {\"$group\": {\"_id\": \"$metadata.measurement\", \"count\": {\"$count\": {}}}}\n",
    "    ]\n",
    "\n",
    "\n",
    ")\n",
    "\n",
    "pp.pprint(list(result))"
   ]
  },
  {
   "cell_type": "markdown",
   "id": "5adee3fe-1015-4feb-8d60-4dc6d099fe01",
   "metadata": {},
   "source": [
    "## Import"
   ]
  },
  {
   "cell_type": "markdown",
   "id": "13bab78c-09db-437c-935f-13c7626100ca",
   "metadata": {},
   "source": [
    "Next I'll Use the find method to retrieve the PM 2.5 readings from site 3 which  is the most populated site.Since we won't need the metadata for our model, I'll use the projection argument to limit the results to the \"P2\" and \"timestamp\" keys only."
   ]
  },
  {
   "cell_type": "code",
   "execution_count": 21,
   "id": "70370435-9e91-40cd-bbb2-3c1ad26ac96c",
   "metadata": {},
   "outputs": [
    {
     "name": "stdout",
     "output_type": "stream",
     "text": [
      "{'P2': 0.01, 'timestamp': datetime.datetime(2018, 10, 1, 0, 0, 52, 906000)}\n"
     ]
    }
   ],
   "source": [
    "result = lagos.find(\n",
    "       {\"metadata.site\": 3, \"metadata.measurement\": \"P2\"},\n",
    "       projection={\"P2\":1, \"timestamp\": 1, \"_id\": 0}\n",
    "\n",
    ")\n",
    "pp.pprint(result.next())"
   ]
  },
  {
   "cell_type": "markdown",
   "id": "d8054f77-bc79-4f09-a3ce-3aa84bce76bc",
   "metadata": {},
   "source": [
    "Next I'll create a wrangle function that will automate the data cleaning process.And every block of code used for cleaning will be updated in the function."
   ]
  },
  {
   "cell_type": "code",
   "execution_count": 22,
   "id": "c3186dcc-3091-4ad7-90df-22e650ba3311",
   "metadata": {},
   "outputs": [],
   "source": [
    "def wrangle(collection):\n",
    "    results = lagos.find(\n",
    "        {\"metadata.site\": 3, \"metadata.measurement\": \"P2\"},\n",
    "        projection={\"P2\": 1, \"timestamp\": 1, \"_id\": 0},\n",
    "    )\n",
    "\n",
    "    df = pd.DataFrame(results).set_index(\"timestamp\")\n",
    "\n",
    "    #localize timezone\n",
    "    df.index = df.index.tz_localize(\"UTC\").tz_convert(\"Africa/Lagos\")\n",
    "    \n",
    "    return df"
   ]
  },
  {
   "cell_type": "code",
   "execution_count": 23,
   "id": "ac9a59bd-70e8-4c6e-9d83-7c74d7ed004c",
   "metadata": {},
   "outputs": [
    {
     "data": {
      "text/html": [
       "<div>\n",
       "<style scoped>\n",
       "    .dataframe tbody tr th:only-of-type {\n",
       "        vertical-align: middle;\n",
       "    }\n",
       "\n",
       "    .dataframe tbody tr th {\n",
       "        vertical-align: top;\n",
       "    }\n",
       "\n",
       "    .dataframe thead th {\n",
       "        text-align: right;\n",
       "    }\n",
       "</style>\n",
       "<table border=\"1\" class=\"dataframe\">\n",
       "  <thead>\n",
       "    <tr style=\"text-align: right;\">\n",
       "      <th></th>\n",
       "      <th>P2</th>\n",
       "    </tr>\n",
       "    <tr>\n",
       "      <th>timestamp</th>\n",
       "      <th></th>\n",
       "    </tr>\n",
       "  </thead>\n",
       "  <tbody>\n",
       "    <tr>\n",
       "      <th>2018-10-01 00:00:52.906</th>\n",
       "      <td>0.01</td>\n",
       "    </tr>\n",
       "    <tr>\n",
       "      <th>2018-10-01 00:04:20.554</th>\n",
       "      <td>0.01</td>\n",
       "    </tr>\n",
       "    <tr>\n",
       "      <th>2018-10-01 00:07:47.504</th>\n",
       "      <td>0.01</td>\n",
       "    </tr>\n",
       "    <tr>\n",
       "      <th>2018-10-01 00:11:14.382</th>\n",
       "      <td>0.01</td>\n",
       "    </tr>\n",
       "    <tr>\n",
       "      <th>2018-10-01 00:14:41.239</th>\n",
       "      <td>0.01</td>\n",
       "    </tr>\n",
       "    <tr>\n",
       "      <th>2018-10-01 00:18:05.938</th>\n",
       "      <td>0.01</td>\n",
       "    </tr>\n",
       "    <tr>\n",
       "      <th>2018-10-01 00:21:34.131</th>\n",
       "      <td>0.01</td>\n",
       "    </tr>\n",
       "    <tr>\n",
       "      <th>2018-10-01 00:24:59.809</th>\n",
       "      <td>0.01</td>\n",
       "    </tr>\n",
       "    <tr>\n",
       "      <th>2018-10-01 00:28:26.467</th>\n",
       "      <td>0.01</td>\n",
       "    </tr>\n",
       "    <tr>\n",
       "      <th>2018-10-01 00:31:51.808</th>\n",
       "      <td>0.01</td>\n",
       "    </tr>\n",
       "  </tbody>\n",
       "</table>\n",
       "</div>"
      ],
      "text/plain": [
       "                           P2\n",
       "timestamp                    \n",
       "2018-10-01 00:00:52.906  0.01\n",
       "2018-10-01 00:04:20.554  0.01\n",
       "2018-10-01 00:07:47.504  0.01\n",
       "2018-10-01 00:11:14.382  0.01\n",
       "2018-10-01 00:14:41.239  0.01\n",
       "2018-10-01 00:18:05.938  0.01\n",
       "2018-10-01 00:21:34.131  0.01\n",
       "2018-10-01 00:24:59.809  0.01\n",
       "2018-10-01 00:28:26.467  0.01\n",
       "2018-10-01 00:31:51.808  0.01"
      ]
     },
     "execution_count": 23,
     "metadata": {},
     "output_type": "execute_result"
    }
   ],
   "source": [
    "df = wrangle(lagos)\n",
    "df.head(10)"
   ]
  },
  {
   "cell_type": "markdown",
   "id": "d1987076-c949-4718-868f-3ff700888de2",
   "metadata": {},
   "source": [
    "Next I'll add to my wrangle function so that the DatetimeIndex for df is localized to the correct timezone, \"Africa/Lagos\"."
   ]
  },
  {
   "cell_type": "code",
   "execution_count": 24,
   "id": "df2b4715-996b-4444-aa7d-aa7a5a220045",
   "metadata": {},
   "outputs": [
    {
     "data": {
      "text/html": [
       "<div>\n",
       "<style scoped>\n",
       "    .dataframe tbody tr th:only-of-type {\n",
       "        vertical-align: middle;\n",
       "    }\n",
       "\n",
       "    .dataframe tbody tr th {\n",
       "        vertical-align: top;\n",
       "    }\n",
       "\n",
       "    .dataframe thead th {\n",
       "        text-align: right;\n",
       "    }\n",
       "</style>\n",
       "<table border=\"1\" class=\"dataframe\">\n",
       "  <thead>\n",
       "    <tr style=\"text-align: right;\">\n",
       "      <th></th>\n",
       "      <th>P2</th>\n",
       "    </tr>\n",
       "    <tr>\n",
       "      <th>timestamp</th>\n",
       "      <th></th>\n",
       "    </tr>\n",
       "  </thead>\n",
       "  <tbody>\n",
       "    <tr>\n",
       "      <th>2018-10-01 01:00:52.906000+01:00</th>\n",
       "      <td>0.01</td>\n",
       "    </tr>\n",
       "    <tr>\n",
       "      <th>2018-10-01 01:04:20.554000+01:00</th>\n",
       "      <td>0.01</td>\n",
       "    </tr>\n",
       "    <tr>\n",
       "      <th>2018-10-01 01:07:47.504000+01:00</th>\n",
       "      <td>0.01</td>\n",
       "    </tr>\n",
       "    <tr>\n",
       "      <th>2018-10-01 01:11:14.382000+01:00</th>\n",
       "      <td>0.01</td>\n",
       "    </tr>\n",
       "    <tr>\n",
       "      <th>2018-10-01 01:14:41.239000+01:00</th>\n",
       "      <td>0.01</td>\n",
       "    </tr>\n",
       "  </tbody>\n",
       "</table>\n",
       "</div>"
      ],
      "text/plain": [
       "                                    P2\n",
       "timestamp                             \n",
       "2018-10-01 01:00:52.906000+01:00  0.01\n",
       "2018-10-01 01:04:20.554000+01:00  0.01\n",
       "2018-10-01 01:07:47.504000+01:00  0.01\n",
       "2018-10-01 01:11:14.382000+01:00  0.01\n",
       "2018-10-01 01:14:41.239000+01:00  0.01"
      ]
     },
     "execution_count": 24,
     "metadata": {},
     "output_type": "execute_result"
    }
   ],
   "source": [
    "df.index = df.index.tz_localize(\"UTC\").tz_convert(\"Africa/Lagos\")\n",
    "df.head()"
   ]
  },
  {
   "cell_type": "markdown",
   "id": "c338bcfe-ab03-44aa-9f6d-0af33630428f",
   "metadata": {},
   "source": [
    "Now I'll add the code to my wrangle function."
   ]
  },
  {
   "cell_type": "markdown",
   "id": "0132eb7a-b0b6-4969-a477-eff2e182a876",
   "metadata": {},
   "source": [
    "Next I'll create a boxplot using pandas in order to identify outliers."
   ]
  },
  {
   "cell_type": "code",
   "execution_count": 28,
   "id": "63c27bd1-eef9-4767-ba85-c5a009fc989f",
   "metadata": {},
   "outputs": [
    {
     "data": {
      "image/png": "[encoded data removed]",
      "text/plain": [
       "<Figure size 1080x432 with 1 Axes>"
      ]
     },
     "metadata": {
      "needs_background": "light"
     },
     "output_type": "display_data"
    }
   ],
   "source": [
    "fig, ax = plt.subplots(figsize=(15, 6))\n",
    "df[\"P2\"].plot(kind=\"box\", vert = False, title=\"distrubution of PM2.5 Readings\");"
   ]
  },
  {
   "cell_type": "markdown",
   "id": "ee364487-42cd-4180-aaae-fdd958951cc3",
   "metadata": {},
   "source": [
    "From the visualization we see that every PM2.5 is lower that 500 and from research carried out, we consider over 500 PM2.5 readings hazardous. since we have no reading in that region we carry on with our analysis. "
   ]
  },
  {
   "cell_type": "code",
   "execution_count": null,
   "id": "e8c63cb1-112f-406a-9c4b-7d53c223665e",
   "metadata": {},
   "outputs": [],
   "source": []
  }
 ],
 "metadata": {
  "kernelspec": {
   "display_name": "Python 3 (ipykernel)",
   "language": "python",
   "name": "python3"
  },
  "language_info": {
   "codemirror_mode": {
    "name": "ipython",
    "version": 3
   },
   "file_extension": ".py",
   "mimetype": "text/x-python",
   "name": "python",
   "nbconvert_exporter": "python",
   "pygments_lexer": "ipython3",
   "version": "3.9.6"
  }
 },
 "nbformat": 4,
 "nbformat_minor": 5
}
